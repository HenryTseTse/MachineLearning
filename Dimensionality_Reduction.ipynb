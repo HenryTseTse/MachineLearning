{
 "cells": [
  {
   "cell_type": "markdown",
   "metadata": {},
   "source": [
    "# Programming/Experimental Assignment 5 - PCA and Dimensionality Reduction\n",
    "\n",
    "This part of the assignment will give you practice with PCA and dimensionality reduction.\n",
    "\n"
   ]
  },
  {
   "cell_type": "markdown",
   "metadata": {},
   "source": [
    "For a quick review the basics of eigenvalues and eigenvectors, see\n",
    "the following short webpage: \n",
    "http://math.oregonstate.edu/home/programs/undergrad/CalculusQuestStudyGuides/vcalc/eigen/eigen.html.\n",
    "\n",
    "It's crucial for PCA that the covariance matrix,\n",
    "is not just a square matrix, but a *symmetric* square matrix.  A matrix *A* is symmetric if $A_{ij}$ = $A_{ji}$\n",
    "for every ij pair.  The eigenvectors and eigenvalues of symmetric matrices have special properties, and PCA takes advantage of these properties."
   ]
  },
  {
   "cell_type": "markdown",
   "metadata": {},
   "source": [
    "## Step 1:  Do some simple exercises by hand to practice with eigenvalues and eigenvectors\n",
    "In Step 2, you'll check your answers with numpy.  You don't have to hand anything in for this step.\n",
    "\n",
    "(a) By hand, find the characteristic polynomial of the matrix \n",
    "$A= \\begin{bmatrix}\n",
    "    0 & 14 \\\\\n",
    "    6 & 9 \n",
    "\\end{bmatrix}$.  (Note: This is not a symmetric matrix.)\n",
    "\n",
    "(b) By hand, solve for the eigenvalues of $A$ using the characteristic polynomial you just computed.  (Numpy uses a more efficient method to compute eigenvalues.)\n",
    "\n",
    "(c)  Solve for the eigenvectors of $A$ using those eigenvalues.\n",
    "The $L_2$ norm of your eigenvectors should be equal to 1.\n",
    "\n",
    "(d)  Solve for the eigenvalues of the following symmetric matrix:\n",
    "  $B= \\begin{bmatrix}\n",
    "    0 & 0\\\\\n",
    "    0 & 0 \n",
    "\\end{bmatrix}$. It has two eigenvalues, but they are equal (because the characteristic polynomial has a repeated root).  \n",
    "  \n"
   ]
  },
  {
   "cell_type": "markdown",
   "metadata": {},
   "source": [
    "## Verify your Step 1 results using numpy"
   ]
  },
  {
   "cell_type": "code",
   "execution_count": 11,
   "metadata": {},
   "outputs": [
    {
     "name": "stdout",
     "output_type": "stream",
     "text": [
      "Eigenvalues:\n",
      "[-5.71028893 14.71028893]\n",
      "Eigenvectors:\n",
      "[[-0.9259401  -0.6894021 ]\n",
      " [ 0.37767039 -0.72437887]]\n"
     ]
    }
   ],
   "source": [
    "\n",
    "import numpy as np\n",
    "\n",
    "A = np.array([[0,14],[6,9]])\n",
    "\n",
    "# Running the numpy linear algebra command linalg.eig(A) that returns\n",
    "# [V,D] where V is the vector of eigenvalues (including repeated ones) and D is a matrix whose columns\n",
    "# are unit-length eigenvectors corresponding to the eigenvalues in V.  Numpy doesn't guarantee that the\n",
    "# given eigenvectors are orthogonal, although they will be orthogonal (ignoring roundoff errors) if the\n",
    "# eigenvalues are all distinct\n",
    "[V,D] = np.linalg.eig(A)\n",
    "print('Eigenvalues:')\n",
    "print(V)\n",
    "print('Eigenvectors:')\n",
    "print(D)\n",
    "\n"
   ]
  },
  {
   "cell_type": "code",
   "execution_count": 12,
   "metadata": {},
   "outputs": [
    {
     "name": "stdout",
     "output_type": "stream",
     "text": [
      "(array([0., 0.]), array([[1., 0.],\n",
      "       [0., 1.]]))\n",
      "Eigenvalues:\n",
      "[0. 0.]\n",
      "Eigenvectors:\n",
      "[[1. 0.]\n",
      " [0. 1.]]\n"
     ]
    }
   ],
   "source": [
    "\n",
    "B = np.array([[0,0],[0,0]])\n",
    "\n",
    "print(np.linalg.eig(B))\n",
    "\n",
    "[V,D] = np.linalg.eig(B)\n",
    "print('Eigenvalues:')\n",
    "print(V)\n",
    "print('Eigenvectors:')\n",
    "print(D)\n",
    "\n",
    "\n"
   ]
  },
  {
   "cell_type": "markdown",
   "metadata": {},
   "source": [
    "## Step 2: Do a simple exercise to center the data and compute the covariance matrix.  \n",
    "You don't need to hand anything in for this step."
   ]
  },
  {
   "cell_type": "markdown",
   "metadata": {},
   "source": [
    "(a) Consider the following training set, consisting of 4 unlabeled examples,\n",
    "with real-valued attributes $x_1, x_2$, and $x_3$.  The training set is\n",
    "represented by a matrix $X$, where each row of the matrix corresponds to an example,\n",
    "and column $i$ corresponds to the $i$th attribute.\n",
    "$$\n",
    "\\begin{bmatrix}\n",
    "    5 & 2 & 6 \\\\\n",
    "    9 & 6 & 4 \\\\\n",
    "    7 & 1 & 0 \\\\\n",
    "    3 & 5 & 6 \n",
    "\\end{bmatrix}\n",
    "$$\n",
    "\n",
    "Begin by centering the data, causing the sample mean in each dimension to be 0, as follows.\n",
    "Calculate the sample means for each column $[s_1, s_2, s_3]$ by hand,\n",
    "and then subtract these values from the entries in each column\n",
    "(e.g. $s_3$ is subtracted from all values in column 3).\n",
    "Call the resulting data matrix $S$.\n",
    "\n",
    "(b) \n",
    "By hand, calculate the sample covariance of $x_1$ and $x_3$ in $S$.\n",
    "\n",
    "Recall that the sample covariance of $x_i$ and $x_j$  for dataset \n",
    "a dataset with $N$ examples is\n",
    "$$\\frac{\\sum_{t} (x_i^t - s_i)*(x_j^t - s_j)}{N-1}$$\n",
    "(as in Numpy, using the version of the sample variance where you divide by $N-1$)\n"
   ]
  },
  {
   "cell_type": "markdown",
   "metadata": {},
   "source": [
    "## Verify your Step 2 results using numpy"
   ]
  },
  {
   "cell_type": "code",
   "execution_count": 13,
   "metadata": {},
   "outputs": [
    {
     "name": "stdout",
     "output_type": "stream",
     "text": [
      "[6.  3.5 4. ]\n",
      "The data matrix after centering\n",
      "[[-1.  -1.5  2. ]\n",
      " [ 3.   2.5  0. ]\n",
      " [ 1.  -2.5 -4. ]\n",
      " [-3.   1.5  2. ]]\n",
      "The covariance matrix of the centered data\n",
      "[[ 6.66666667  0.66666667 -4.        ]\n",
      " [ 0.66666667  5.66666667  3.33333333]\n",
      " [-4.          3.33333333  8.        ]]\n",
      "The covariance of x1 and x3\n",
      "-4.0\n"
     ]
    }
   ],
   "source": [
    "\n",
    "X = np.array([[5,2,6],[9,6,4],[7,1,0],[3,5,6]])\n",
    "print(X.mean(axis=0))\n",
    "Xcent = X - X.mean(axis=0)\n",
    "print('The data matrix after centering')\n",
    "print(Xcent)\n",
    "print('The covariance matrix of the centered data')\n",
    "#rowvar=False becasue the variables/features correspond to the columns\n",
    "S = np.cov(Xcent,rowvar=False)\n",
    "print(S)\n",
    "# In fact, centering the data doesn't affect the covariance matrix.\n",
    "# You'd get the same covariance matrix if you computed np.cov(X)\n",
    "print('The covariance of x1 and x3')\n",
    "# it's in entry [0,2] because of indexing of numpy arrays\n",
    "print(S[0,2])"
   ]
  },
  {
   "cell_type": "markdown",
   "metadata": {},
   "source": [
    "## Step 3: Apply sklearn's version of PCA to the matrix X above"
   ]
  },
  {
   "cell_type": "code",
   "execution_count": 14,
   "metadata": {},
   "outputs": [
    {
     "name": "stdout",
     "output_type": "stream",
     "text": [
      "Eigenvectors of sample covariance matrix S, produced by numpy PCA:\n",
      "[[ 0.52400642  0.65648154  0.54263179]\n",
      " [-0.34531641  0.74614542 -0.5692307 ]\n",
      " [-0.77857167  0.11090088  0.61767883]]\n",
      "Eigenvectors of sample covariance matrix S, computed directly\n",
      "Eigenvectors:\n",
      "[[-0.52400642 -0.65648154 -0.54263179]\n",
      " [ 0.34531641 -0.74614542  0.5692307 ]\n",
      " [ 0.77857167 -0.11090088 -0.61767883]]\n",
      "Showing Z, the transformed version of data matrix X produced by PCA without any dimension reduction\n",
      "[[-1.56317515 -1.5538979   1.54657193]\n",
      " [ 0.70872823  3.83480816  0.20481862]\n",
      " [ 4.50158414 -1.65248553 -0.50500678]\n",
      " [-3.64713722 -0.62842473 -1.24638377]]\n"
     ]
    }
   ],
   "source": [
    "import sklearn.decomposition as skd\n",
    "\n",
    "# .fit computes the principal components  (n_components of them)\n",
    "# The columns of W are the eigenvectors of the covariance matrix of X\n",
    "pca = skd.PCA(n_components = 3)\n",
    "skd.PCA.fit(pca,X)\n",
    "W1 = pca.components_\n",
    "W = W1.transpose()\n",
    "# The first column of the matrix W is a vector w of norm 1, such that \n",
    "# the projection of the data in Xcent (the centered version of X) in the direction of w has the largest\n",
    "# variance possible.  \n",
    "print('Eigenvectors of sample covariance matrix S, produced by numpy PCA:')\n",
    "print(W)\n",
    "\n",
    "# We get the same result by computing the eigenvectors directly, except that\n",
    "# some of the eigenvectors may be multiplied by -1 (since if x is an eigenvector\n",
    "# of length 1 with eigenvalue lambda, so is -x.)\n",
    "print('Eigenvectors of sample covariance matrix S, computed directly')\n",
    "[V,D] = np.linalg.eig(S)\n",
    "print('Eigenvectors:')\n",
    "print(D)\n",
    "\n",
    "Z = pca.transform(X)\n",
    "# Z is a new representation of the data in matrix X,\n",
    "# using the attributes produced by PCA.\n",
    "# The first column of Z \n",
    "# corresponds to the attribute associated with the principal (largest)\n",
    "# eigenvalue of the sample covariance matrix.\n",
    "\n",
    "print('Showing Z, the transformed version of data matrix X produced by PCA without any dimension reduction')\n",
    "print(Z)\n"
   ]
  },
  {
   "cell_type": "code",
   "execution_count": 15,
   "metadata": {},
   "outputs": [
    {
     "name": "stdout",
     "output_type": "stream",
     "text": [
      "Showing Z, the transformed version of data matrix X produced by PCA, reducing dimension to 2\n",
      "[[-1.56317515 -1.5538979 ]\n",
      " [ 0.70872823  3.83480816]\n",
      " [ 4.50158414 -1.65248553]\n",
      " [-3.64713722 -0.62842473]]\n"
     ]
    }
   ],
   "source": [
    "# If we wanted to do dimension reduction on X, and reduce the dimension\n",
    "# of the data to 2 using PCA, we could replace X by the first 2 columns of Z\n",
    "# instead of by the entire matrix Z.  \n",
    "# Changing n_components to 2 in the call to skd.PCA is equivalent to removing the\n",
    "# last column of our current Z.\n",
    "\n",
    "# Repeating the above but reducing dimension to 2\n",
    "pca = skd.PCA(n_components = 2)\n",
    "skd.PCA.fit(pca,X)\n",
    "W1 = pca.components_\n",
    "W = W1.transpose()\n",
    "Z = pca.transform(X)\n",
    "print('Showing Z, the transformed version of data matrix X produced by PCA, reducing dimension to 2')\n",
    "print(Z)\n"
   ]
  },
  {
   "cell_type": "code",
   "execution_count": 16,
   "metadata": {
    "scrolled": true
   },
   "outputs": [
    {
     "name": "stdout",
     "output_type": "stream",
     "text": [
      "Showing Z, the transformed version of data matrix X produced by PCA, reducing dimension to 2\n",
      "[[-0.32788581  3.38349619]\n",
      " [ 4.28209516 -1.48970353]\n",
      " [-3.95420935 -1.89379266]]\n"
     ]
    }
   ],
   "source": [
    "X = np.array([[9, 6, 4], [7, 1, 0], [3, 5, 6]])\n",
    "# Repeating the above but reducing dimension to 2\n",
    "pca = skd.PCA(n_components = 2)\n",
    "skd.PCA.fit(pca,X)\n",
    "W1 = pca.components_\n",
    "W = W1.transpose()\n",
    "Z = pca.transform(X)\n",
    "print('Showing Z, the transformed version of data matrix X produced by PCA, reducing dimension to 2')\n",
    "print(Z)"
   ]
  },
  {
   "cell_type": "markdown",
   "metadata": {},
   "source": [
    "## Step 4: Understanding how you can recover an approximate version of the original dataset, after PCA\n",
    "As discussed above, PCA does not just project the data, it also centers it\n",
    "around the origin.  This is accomplished by computing the sample mean $m$ of the\n",
    "examples (rows) in $X$, and subtracting it from each row of $X$,\n",
    "prior to computing the projection.\n",
    "If $x$ is the first row (example) of $X$, and $z$ is the corresponding\n",
    "first row of $z$, then its first entry, $z_1$, is computed as follows: $z_1 = W^T *(x^T-m^T)$\n",
    "or equivalently, $z_1 = (x-m)*W$. \n",
    "\n",
    "More generally, if $N$ is the number of examples (rows) in $X$, and\n",
    "$M$ is the $N \\times N$ matrix whose rows are all equal to $m$, we get\n",
    "$Z=(X-M)*W$.\n",
    "\n",
    "Because the columns of $W$ are orthogonal, \n",
    "and have unit length, \n",
    "$X = Z W^T + M$.\n",
    "\n",
    "If we use PCA to reduce the dimension to $k$ attributes,\n",
    "we want to use only the first $k$ principal components,\n",
    "corresponding to the first $k$ columns of $W$ and $Z$.\n",
    "Let $W_k$ and $Z_k$ denote the matrices consisting of\n",
    "the first $k$ columns of $W$ and $Z$.\n",
    "In this case, we can use the same calculation, $X=ZW^T+M$, \n",
    "but with $W_k$ and $Z_k$,\n",
    "to get an approximation to X.\n",
    "\n"
   ]
  },
  {
   "cell_type": "markdown",
   "metadata": {},
   "source": [
    "## Fun with PCA: Eigenfaces = Eigenvalues + Faces\n",
    "Follow the instructions below."
   ]
  },
  {
   "cell_type": "code",
   "execution_count": 17,
   "metadata": {},
   "outputs": [
    {
     "data": {
      "image/png": "[encoded data removed]",
      "text/plain": [
       "<Figure size 720x1440 with 6 Axes>"
      ]
     },
     "metadata": {
      "needs_background": "light"
     },
     "output_type": "display_data"
    }
   ],
   "source": [
    "\n",
    "# The code below loads a dataset containing images of faces\n",
    "# and displays some of them.  You will need to run the code\n",
    "# to answer the given questions.\n",
    "# (You may need to install pillow or something similar.)\n",
    "#\n",
    "# Each image is a 62x47 pixel array.\n",
    "# The images are read into a matrix called fea.\n",
    "# The rows of the matrix fea are the images (examples).\n",
    "# The features (columns) are the pixels.\n",
    "# Each example is represented by a vector of real numbers of length 2914,\n",
    "# listing the pixels from left to right, row by row, from top to bottom.\n",
    "\n",
    "# loading the image viewer\n",
    "from PIL import Image\n",
    "\n",
    "import numpy as np\n",
    "import matplotlib\n",
    "import matplotlib.pyplot as plt\n",
    "import pandas as pd\n",
    "\n",
    "from sklearn.datasets import fetch_lfw_people\n",
    "lfw_people = fetch_lfw_people(min_faces_per_person=70)\n",
    "n_samples, h, w = lfw_people.images.shape\n",
    "npix = h*w\n",
    "fea = lfw_people.data\n",
    "\n",
    "def plt_face(x):\n",
    "    global h,w\n",
    "    plt.imshow(x.reshape((h, w)), cmap=plt.cm.gray)\n",
    "    plt.xticks([])\n",
    "\n",
    "plt.figure(figsize=(10,20))\n",
    "nplt = 6\n",
    "for i in range(nplt):    \n",
    "    plt.subplot(1,nplt,i+1)\n",
    "    plt_face(fea[i])\n",
    "\n",
    "plt.show()\n",
    "\n",
    "# The above code only displays the first 4 faces in the dataset.\n",
    "# You can display just the face corresponding to Example t in the dataset (starting from 0)\n",
    "# by executing the following commands:\n",
    "# plt_face(fea[t])\n",
    "# plt.show()"
   ]
  },
  {
   "cell_type": "markdown",
   "metadata": {},
   "source": [
    "There is nothing you need to hand in for Step 4."
   ]
  },
  {
   "cell_type": "markdown",
   "metadata": {},
   "source": [
    "## Step 5: Fill in the missing code below"
   ]
  },
  {
   "cell_type": "code",
   "execution_count": 21,
   "metadata": {},
   "outputs": [
    {
     "data": {
      "image/png": "[encoded data removed]",
      "text/plain": [
       "<Figure size 432x288 with 1 Axes>"
      ]
     },
     "metadata": {
      "needs_background": "light"
     },
     "output_type": "display_data"
    },
    {
     "data": {
      "image/png": "[encoded data removed]",
      "text/plain": [
       "<Figure size 432x288 with 1 Axes>"
      ]
     },
     "metadata": {
      "needs_background": "light"
     },
     "output_type": "display_data"
    },
    {
     "name": "stdout",
     "output_type": "stream",
     "text": [
      "5 attribute values from PCA for image t = 1\n",
      "[ 809.99756 -624.8557   365.0755   -91.26814  302.4979 ]\n"
     ]
    },
    {
     "data": {
      "image/png": "[encoded data removed]",
      "text/plain": [
       "<Figure size 432x288 with 1 Axes>"
      ]
     },
     "metadata": {
      "needs_background": "light"
     },
     "output_type": "display_data"
    },
    {
     "data": {
      "image/png": "[encoded data removed]",
      "text/plain": [
       "<Figure size 432x288 with 1 Axes>"
      ]
     },
     "metadata": {
      "needs_background": "light"
     },
     "output_type": "display_data"
    }
   ],
   "source": [
    "\n",
    "# (a) TO DO:  Display the second face, t=1, in the dataset using the appropriate command above.\n",
    "plt_face(fea[1])\n",
    "plt.show()\n",
    "\n",
    "# (b) TO DO: Compute the mean of all the examples in the dataset fea. \n",
    "# (That is, compute an image such that each pixel i of the image is the mean of pixel i\n",
    "# in all the images in fea.)\n",
    "# Display it using a modification of the above command.  \n",
    "\n",
    "fea_mean = np.zeros(fea.shape[1])\n",
    "\n",
    "for i in range(fea.shape[0]):\n",
    "    fea_mean += fea[i]\n",
    "    \n",
    "fea_mean = fea_mean / fea.shape[0]\n",
    "plt_face(fea_mean)\n",
    "plt.show()\n",
    "\n",
    "# (c) TO DO: Let's do dimensionality reduction with pca.  Using numpy and/or sklearn,\n",
    "# compute the 5 top principal components of the data matrix fea.\n",
    "# Then print the associated 5 attribute values for image t=1 that would be produced\n",
    "# by PCA.\n",
    "\n",
    "pca = skd.PCA(n_components = 5)\n",
    "skd.PCA.fit(pca,fea)\n",
    "W1 = pca.components_\n",
    "W = W1.transpose()\n",
    "Z = pca.transform(fea)\n",
    "print('5 attribute values from PCA for image t = 1')\n",
    "print(Z[1])\n",
    "\n",
    "\n",
    "# (d) TO DO: Using the reconstruction equation X=W^T*Z+M described above, but\n",
    "# with just the first 5 columns of Z and W (the attributes associated with the first 5 principal\n",
    "# components), approximate the image t=1 in the dataset.\n",
    "# Display the resulting approximate image.\n",
    "# Repeat with the first 25 columns of Z and W.\n",
    "# (These will be representations of image t=1, based on 5 or 25 features instead of the\n",
    "# original 2914 pixel features.)\n",
    "\n",
    "\n",
    "X_recon = Z.dot(W.transpose()) + fea_mean\n",
    "plt_face(X_recon[1])\n",
    "plt.title('Reconstructed based on 5 features')\n",
    "plt.show()\n",
    "\n",
    "pca = skd.PCA(n_components = 25)\n",
    "skd.PCA.fit(pca,fea)\n",
    "W1 = pca.components_\n",
    "W = W1.transpose()\n",
    "Z = pca.transform(fea)\n",
    "X_recon = Z.dot(W.transpose()) + fea_mean\n",
    "plt_face(X_recon[1])\n",
    "plt.title('Reconstructed based on 25 features')\n",
    "plt.show()\n"
   ]
  },
  {
   "cell_type": "markdown",
   "metadata": {},
   "source": [
    "## Step 6:  Dimensionality reduction for sentiment analysis\n",
    "In image data, features are pixels.  Now we return to the sentiment analysis dataset we explored in a previous homework.  In that homework, we applied multinomial Naive Bayes after creating a data matrix whose rows corresponded\n",
    "to the reviews.  In this homework, we want to apply logistic regression instead.  However,\n",
    "the features in this problem are the words in the vocabulary, and there are many of them.\n",
    "Using dimensionality reduction seems like it might be a good idea here, so let's try a couple of ways of doing that."
   ]
  },
  {
   "cell_type": "code",
   "execution_count": 22,
   "metadata": {},
   "outputs": [],
   "source": [
    "# begin by creating the data matrix and target vector, as in the previous homework\n",
    "import numpy as np\n",
    "from sklearn.feature_extraction.text import CountVectorizer\n",
    "\n",
    "# read in train and test files, removing newlines\n",
    "\n",
    "f = open(\"trainfilex.txt\", \"r\")\n",
    "trainrevs = [line.rstrip('\\n') for line in f]\n",
    "\n",
    "f = open(\"trainfiley.txt\",\"r\")\n",
    "trainlabels = [line.rstrip('\\n') for line in f]\n",
    "\n",
    "f = open(\"testfilex.txt\",\"r\")\n",
    "testrevs = [line.rstrip('\\n') for line in f]\n",
    "\n",
    "f = open(\"testfiley.txt\",\"r\")\n",
    "testlabels = [line.rstrip('\\n') for line in f]\n",
    "\n",
    "# the first part of the training file contains all the\n",
    "# negative training reviews, and the second part contains all the positive\n",
    "# training reviews\n",
    "#\n",
    "# create an instance of CountVectorizer\n",
    "# Note there are issues with the way CountVectorizer removes stop words.  To learn more: https://scikit-learn.org/stable/modules/feature_extraction.html#stop-words\n",
    "#vectorizer = CountVectorizer(stop_words='english')\n",
    "vectorizer = CountVectorizer()\n",
    "\n",
    "# Create the vocabulary for our feature transformation\n",
    "vectorizer.fit(trainrevs)\n",
    "\n",
    "# Next we create the feature vectors for the training data\n",
    "X_train = vectorizer.transform(trainrevs).toarray() # code to turn the training reviews into a feature vector\n",
    "X_test = vectorizer.transform(testrevs).toarray() # code to turn the test reviews into a feature vector\n"
   ]
  },
  {
   "cell_type": "code",
   "execution_count": 23,
   "metadata": {},
   "outputs": [
    {
     "name": "stdout",
     "output_type": "stream",
     "text": [
      "Features in X_train:  5308\n"
     ]
    },
    {
     "data": {
      "text/plain": [
       "(1349, 5308)"
      ]
     },
     "execution_count": 23,
     "metadata": {},
     "output_type": "execute_result"
    }
   ],
   "source": [
    "# How many features are there in the data matrix X_train?\n",
    "# TODO: Write a line of code to answer this question\n",
    "\n",
    "print('Features in X_train: ', X_train.shape[1])\n",
    "X_train.shape"
   ]
  },
  {
   "cell_type": "markdown",
   "metadata": {},
   "source": [
    "# Step 7 Feature selection using Gini Impurity\n",
    "We will use a \"filter\"\n",
    "method for feature selection, based on Gini impurity.  First, we create a \"binarized\" version of the training data matrix, so that\n",
    "entry [i,j] contains a 1 if word j appears in review i, and entry [i,j] contains a\n",
    "0 otherwise.  That is, if a word occurs more than once in a review, we only count it\n",
    "once. Now we can treat each feature as a binary feature.\n",
    "Using the binarized version of the training data matrix, and the target vector,\n",
    "we will compute the following \"weighted Gini impurity\" measure for each word j:\n",
    "$$\\frac{|S_l|}{|S|}G(S_l)+\\frac{|S_r|}{|S|}G(S_r)$$ where $S$ is the set of examples (reviews) with their binary labels,\n",
    "$S_l$ is the subset of examples for which the value of feature $j$=0,\n",
    "$S_r$ is the subset of examples for which the value of feature $j$=0,\n",
    "and $G$ is the Gini impurity function $G(S) = \\sum_{c} p_c(1-p_c)$ where $p_c$ is the fraction of examples in $S$ belonging to class $c$ (here $c=0$ or $c=1$).\n",
    "\n",
    "If we want only k features, we will choose the k features with **lowest** weighted Gini impurity.\n"
   ]
  },
  {
   "cell_type": "code",
   "execution_count": 24,
   "metadata": {},
   "outputs": [],
   "source": [
    "#  We begin by binarizing the training data matrix\n",
    "# Create a lambda function that returns 1 for positive inputs, 0 otherwise\n",
    "positive_check = lambda i: 1 if i > 0 else 0\n",
    "\n",
    "# Create a vectorized version of lambda function\n",
    "vectorized_positive_check = np.vectorize(positive_check)\n",
    "\n",
    "# apply vectorized function to all elements of X_train to \"binarize\" the matrix \n",
    "X_train_binarized = vectorized_positive_check(X_train)"
   ]
  },
  {
   "cell_type": "code",
   "execution_count": null,
   "metadata": {},
   "outputs": [],
   "source": []
  },
  {
   "cell_type": "markdown",
   "metadata": {},
   "source": [
    "## Compute the weighted Gini impurity\n",
    "Start by writing a helper function that takes as input a data matrix X\n",
    "with binary entries, an associated binary target vector y, and an index j\n",
    "It returns the weighted Gini impurity of j with respect to X and y, as\n",
    "defined above."
   ]
  },
  {
   "cell_type": "code",
   "execution_count": 25,
   "metadata": {},
   "outputs": [],
   "source": [
    "#S_l is subset of examples which the value of feature j = 0\n",
    "#S_r is subset of examples which the value of feature j = 1\n",
    "\n",
    "# Input: Binary data matrix X, binary target vector y, column index j\n",
    "# Output: Weighted Gini impurity of feature j in dataset represented by X and y\n",
    "# as defined above\n",
    "\n",
    "def wtdGini(X,y,j): #TYPO wtdGini(X,y,i), CHANGED i to j\n",
    "########## TO DO ##########\n",
    "\n",
    "    S_l, S_r = 0, 0\n",
    "    S_l_0, S_l_1, S_r_0, S_r_1 = 0, 0, 0, 0\n",
    "    \n",
    "    for i in range(len(X)):\n",
    "        \n",
    "        if X[i][j] == 0:\n",
    "            S_l += 1\n",
    "            if int(y[i]) == 0:\n",
    "                S_l_0 += 1\n",
    "            else:\n",
    "                S_l_1 += 1\n",
    "        \n",
    "        else:\n",
    "            S_r += 1\n",
    "            if int(y[i]) == 0:\n",
    "                S_r_0 += 1\n",
    "            else:\n",
    "                S_r_1 += 1\n",
    "    #prob Sl and Sr       \n",
    "    pSl, pSr = S_l / len(X), S_r / len(X) \n",
    "\n",
    "    \n",
    "    #prob class 0 or 1 given Sl or Sr\n",
    "    S_l_0, S_l_1, S_r_0, S_r_1 = S_l_0 / S_l, S_l_1 / S_l, S_r_0 / S_r, S_r_1 / S_r\n",
    "    \n",
    "    #gini impurity function\n",
    "    G_l = S_l_0 * (1 - S_l_0) + S_l_1 * (1 - S_l_1)\n",
    "    G_r = S_r_0 * (1 - S_r_0) + S_r_1 * (1 - S_r_1)\n",
    "    \n",
    "    #weighted gini\n",
    "    stdGini = pSl * G_l + pSr * G_r\n",
    "\n",
    "##########\n",
    "    return stdGini"
   ]
  },
  {
   "cell_type": "code",
   "execution_count": 26,
   "metadata": {
    "scrolled": true
   },
   "outputs": [
    {
     "name": "stdout",
     "output_type": "stream",
     "text": [
      "['thoughtful']\n"
     ]
    }
   ],
   "source": [
    "# If you want to know which \"word\" in the vocabulary corresponds to column j in X_train,\n",
    "# it's easy to find out from the vocabulary dictionary built by CountVectorizer.  \n",
    "# Here we find the attribute for column 4710\n",
    "i=vectorizer.vocabulary_\n",
    "listOfKeys = [key  for (key, value) in i.items() if value == 4710]\n",
    "print(listOfKeys)"
   ]
  },
  {
   "cell_type": "markdown",
   "metadata": {},
   "source": [
    "Write code to create a vector of indices j, in increasing order of the weighted Gini impurity of the corresponding features.\n",
    "Calculate the weighted Gini impurity with respect to X_train_binarized and trainlabels."
   ]
  },
  {
   "cell_type": "code",
   "execution_count": 27,
   "metadata": {},
   "outputs": [],
   "source": [
    "########### TO DO #############\n",
    "\n",
    "weighted_Gini = np.zeros(len(X_train_binarized[0]))\n",
    "\n",
    "for j in range(len(X_train_binarized[0])):\n",
    "\n",
    "    weighted_Gini[j] = wtdGini(X_train_binarized, trainlabels, j)\n",
    "\n",
    "\n",
    "###############################"
   ]
  },
  {
   "cell_type": "markdown",
   "metadata": {},
   "source": [
    "Now write code to print the 10 words with the lowest weighted Gini impurity, along with their weighted Gini impurity"
   ]
  },
  {
   "cell_type": "code",
   "execution_count": 28,
   "metadata": {},
   "outputs": [
    {
     "name": "stdout",
     "output_type": "stream",
     "text": [
      "1 :  bad   0.48260059288603196\n",
      "2 :  best   0.48582732519089356\n",
      "3 :  and   0.4874786280665139\n",
      "4 :  moving   0.4900866928394984\n",
      "5 :  with   0.49071490171177545\n",
      "6 :  too   0.4907856200614566\n",
      "7 :  or   0.4909836448754165\n",
      "8 :  dull   0.49132579409977867\n",
      "9 :  minutes   0.49132579409977867\n",
      "10 :  this   0.4913975127718794\n"
     ]
    }
   ],
   "source": [
    "############## TO DO #####################\n",
    "\n",
    "#return kth lowest index positions in sorted order of weighted Gini values\n",
    "def kth_lowest_Gini(kth_lowest, weighted_Gini):\n",
    "    \n",
    "    k = np.arange(kth_lowest) + 1\n",
    "    idx = np.argpartition(weighted_Gini, k)\n",
    "    lowest = idx[:kth_lowest]\n",
    "    return lowest\n",
    "\n",
    "#10 lowest gini impurities and words\n",
    "lowest = kth_lowest_Gini(10, weighted_Gini)\n",
    "\n",
    "i=vectorizer.vocabulary_\n",
    "\n",
    "for j in range(len(lowest)):\n",
    "    \n",
    "    for key, value in i.items():\n",
    "        if value == lowest[j]:\n",
    "            word = key  \n",
    "    print(j + 1, ': ', word, \" \", weighted_Gini[lowest[j]])\n",
    "\n",
    "\n",
    "###########################################"
   ]
  },
  {
   "cell_type": "code",
   "execution_count": null,
   "metadata": {},
   "outputs": [],
   "source": []
  },
  {
   "cell_type": "markdown",
   "metadata": {},
   "source": [
    "Using sklearn's logistic regression, we can run it on X_train,trainlabels to compute the training error when using all the features. (Note: we are using X_train, not the binarized version.  We only used the binarized version for Gini impurity.)  "
   ]
  },
  {
   "cell_type": "code",
   "execution_count": 31,
   "metadata": {},
   "outputs": [
    {
     "name": "stdout",
     "output_type": "stream",
     "text": [
      "Training accuracy:\n",
      "1.0\n",
      "Test accuracy:\n",
      "0.7947019867549668\n"
     ]
    }
   ],
   "source": [
    "# By default, sklearn's logistic regression performs regularization using an\n",
    "# L2 penalty term (like the one in (linear) ridge regression).  So that we're not experimenting \n",
    "# with too many different options at once, we will turn off the regularization here by setting \n",
    "# penalty=none.\n",
    "\n",
    "# If you get an error message saying STOP: TOTAL NO. of ITERATIONS REACHED LIMIT,\n",
    "# then the procedure to optimize the error function \n",
    "# did not coverge within max_iter iterations.  The default for max_iter is 100.  To \n",
    "# raise max_iter, add e.g., maxiter = 500 to the argument list for LogisticRegression().\n",
    "\n",
    "from sklearn.linear_model import LogisticRegression\n",
    "clf = LogisticRegression(penalty='none',max_iter = 500).fit(X_train, trainlabels)\n",
    "print(\"Training accuracy:\")\n",
    "print(clf.score(X_train,trainlabels))\n",
    "print(\"Test accuracy:\")\n",
    "print(clf.score(X_test, testlabels))"
   ]
  },
  {
   "cell_type": "markdown",
   "metadata": {},
   "source": [
    "Now run sklearn's logistic regression on the data in X_train,trainlabels and test on the test data, using just \n",
    "the k features with lowest weighted Gini impurity, for k=10,50, 100, 250, 500, 750, 1000.  Use sklearn's version of logistic regression.  So, you will need to run logistic regression on the training set 5 times. You may need to increase the max_iter parameter to the LogisticRegression function in sklearn, as described above."
   ]
  },
  {
   "cell_type": "code",
   "execution_count": 47,
   "metadata": {},
   "outputs": [
    {
     "name": "stdout",
     "output_type": "stream",
     "text": [
      "10  lowest features\n",
      "Training accuracy:\n",
      "0.6323202372127502\n",
      "Test accuracy:\n",
      "0.5562913907284768\n",
      "\n",
      "50  lowest features\n",
      "Training accuracy:\n",
      "0.7464788732394366\n",
      "Test accuracy:\n",
      "0.7483443708609272\n",
      "\n",
      "100  lowest features\n",
      "Training accuracy:\n",
      "0.810229799851742\n",
      "Test accuracy:\n",
      "0.7682119205298014\n",
      "\n",
      "250  lowest features\n",
      "Training accuracy:\n",
      "0.8999258710155671\n",
      "Test accuracy:\n",
      "0.7152317880794702\n",
      "\n"
     ]
    },
    {
     "name": "stderr",
     "output_type": "stream",
     "text": [
      "/Users/marcus/opt/anaconda3/lib/python3.8/site-packages/sklearn/linear_model/_logistic.py:762: ConvergenceWarning: lbfgs failed to converge (status=1):\n",
      "STOP: TOTAL NO. of ITERATIONS REACHED LIMIT.\n",
      "\n",
      "Increase the number of iterations (max_iter) or scale the data as shown in:\n",
      "    https://scikit-learn.org/stable/modules/preprocessing.html\n",
      "Please also refer to the documentation for alternative solver options:\n",
      "    https://scikit-learn.org/stable/modules/linear_model.html#logistic-regression\n",
      "  n_iter_i = _check_optimize_result(\n"
     ]
    },
    {
     "name": "stdout",
     "output_type": "stream",
     "text": [
      "500  lowest features\n",
      "Training accuracy:\n",
      "0.9518161601186064\n",
      "Test accuracy:\n",
      "0.7947019867549668\n",
      "\n",
      "750  lowest features\n",
      "Training accuracy:\n",
      "0.9673832468495182\n",
      "Test accuracy:\n",
      "0.7814569536423841\n",
      "\n",
      "1000  lowest features\n",
      "Training accuracy:\n",
      "0.9873980726464048\n",
      "Test accuracy:\n",
      "0.8145695364238411\n",
      "\n"
     ]
    }
   ],
   "source": [
    " ########## TO DO ###########\n",
    "\n",
    "k = np.array([10, 50, 100, 250, 500, 750, 1000])\n",
    "\n",
    "for i in range(len(k)):\n",
    "    \n",
    "    lowest = kth_lowest_Gini(k[i], weighted_Gini)\n",
    "    X_train_fea = X_train[:,lowest]\n",
    "    X_test_fea = X_test[:,lowest]\n",
    "    clf = LogisticRegression(penalty='none',max_iter = 500).fit(X_train_fea, trainlabels)\n",
    "    print(k[i], \" lowest features\")\n",
    "    print(\"Training accuracy:\")\n",
    "    print(clf.score(X_train_fea,trainlabels))\n",
    "    print(\"Test accuracy:\")\n",
    "    print(clf.score(X_test_fea, testlabels))\n",
    "    print()\n",
    "    \n",
    " ###########################"
   ]
  },
  {
   "cell_type": "markdown",
   "metadata": {},
   "source": [
    "## Step 8 Experimental comparison to dimensionality reduction with PCA"
   ]
  },
  {
   "cell_type": "markdown",
   "metadata": {},
   "source": [
    "It's also possible to use PCA on the sentiment analysis dataset in order to reduce the dimension to k.  (Note that this does not correspond to keeping just k words from the vocabulary vocabulary.)  Repeat the previous experiment on the sentiment analysis dataset, but this time, \n",
    "use sklearn's PCA to do dimensionality reduction (as you did with the faces), rather than feature selection based on Gini impurity.  Again, compute training and test accuracy for k=10,50, 100, 500, 1000."
   ]
  },
  {
   "cell_type": "code",
   "execution_count": 46,
   "metadata": {},
   "outputs": [
    {
     "name": "stdout",
     "output_type": "stream",
     "text": [
      "10  lowest features\n",
      "Training accuracy:\n",
      "0.6174944403261675\n",
      "Test accuracy:\n",
      "0.5827814569536424\n",
      "\n",
      "50  lowest features\n",
      "Training accuracy:\n",
      "0.7027427724240178\n",
      "Test accuracy:\n",
      "0.6225165562913907\n",
      "\n",
      "100  lowest features\n",
      "Training accuracy:\n",
      "0.765011119347665\n",
      "Test accuracy:\n",
      "0.6887417218543046\n",
      "\n",
      "500  lowest features\n",
      "Training accuracy:\n",
      "1.0\n",
      "Test accuracy:\n",
      "0.7350993377483444\n",
      "\n",
      "1000  lowest features\n",
      "Training accuracy:\n",
      "1.0\n",
      "Test accuracy:\n",
      "0.7748344370860927\n",
      "\n"
     ]
    }
   ],
   "source": [
    "########## TO DO ###########\n",
    "\n",
    "k = np.array([10, 50, 100, 500, 1000])\n",
    "\n",
    "for i in range(len(k)):\n",
    "    \n",
    "    pca = skd.PCA(n_components = k[i])\n",
    "    skd.PCA.fit(pca,X_train)\n",
    "    W1 = pca.components_\n",
    "    W = W1.transpose()\n",
    "    Z_train = pca.transform(X_train)\n",
    "    Z_test = pca.transform(X_test)\n",
    "\n",
    "    clf = LogisticRegression(penalty='none',max_iter = 500).fit(Z_train, trainlabels)\n",
    "    print(k[i], \" lowest features\")\n",
    "    print(\"Training accuracy:\")\n",
    "    print(clf.score(Z_train,trainlabels))\n",
    "    print(\"Test accuracy:\")\n",
    "    print(clf.score(Z_test, testlabels))\n",
    "    print()\n",
    "\n",
    "############################"
   ]
  },
  {
   "cell_type": "code",
   "execution_count": 48,
   "metadata": {},
   "outputs": [
    {
     "data": {
      "text/plain": [
       "array([[ 5.68868265e-01,  1.44054701e+00, -3.25238497e-01, ...,\n",
       "        -1.04430580e-01,  1.02501479e-02, -3.57002935e-02],\n",
       "       [ 1.44145318e+00,  1.23326433e+00, -4.65592857e-01, ...,\n",
       "        -7.06833940e-03,  2.14291929e-02, -2.72138421e-03],\n",
       "       [ 2.84815947e+00,  1.06386539e+00, -1.35749945e+00, ...,\n",
       "         2.03132683e-02, -9.95270174e-02, -2.72095288e-03],\n",
       "       ...,\n",
       "       [-1.21459562e+00, -5.31566564e-01,  1.28965009e-01, ...,\n",
       "         1.36801884e-02,  2.95574358e-02,  2.75301578e-03],\n",
       "       [-8.19891102e-01, -4.50908867e-01, -3.52079729e-01, ...,\n",
       "         5.18445458e-02, -3.00591499e-02,  2.12831709e-02],\n",
       "       [-1.21337058e+00, -5.39574043e-01,  1.33010456e-01, ...,\n",
       "        -2.66283718e-02,  1.40523215e-02,  1.17565073e-02]])"
      ]
     },
     "execution_count": 48,
     "metadata": {},
     "output_type": "execute_result"
    }
   ],
   "source": [
    "Z_test"
   ]
  },
  {
   "cell_type": "code",
   "execution_count": null,
   "metadata": {},
   "outputs": [],
   "source": []
  }
 ],
 "metadata": {
  "kernelspec": {
   "display_name": "Python 3",
   "language": "python",
   "name": "python3"
  },
  "language_info": {
   "codemirror_mode": {
    "name": "ipython",
    "version": 3
   },
   "file_extension": ".py",
   "mimetype": "text/x-python",
   "name": "python",
   "nbconvert_exporter": "python",
   "pygments_lexer": "ipython3",
   "version": "3.8.5"
  }
 },
 "nbformat": 4,
 "nbformat_minor": 2
}
