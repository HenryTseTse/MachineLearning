{
 "cells": [
  {
   "cell_type": "markdown",
   "metadata": {},
   "source": [
    "# Programming Assignment 3 - Linear Regression "
   ]
  },
  {
   "cell_type": "markdown",
   "metadata": {},
   "source": [
    "## Step 1:  Example linear regression code\n",
    "\n",
    "Study the following source code from the scikit-learn documentation https://scikit-learn.org/stable/auto_examples/linear_model/plot_ols.html"
   ]
  },
  {
   "cell_type": "code",
   "execution_count": 118,
   "metadata": {},
   "outputs": [
    {
     "name": "stdout",
     "output_type": "stream",
     "text": [
      "Coefficients: \n",
      " [938.23786125]\n",
      "Mean squared error: 2548.07\n",
      "Coefficient of determination: 0.47\n"
     ]
    },
    {
     "data": {
      "image/png": "[encoded data removed]",
      "text/plain": [
       "<Figure size 432x288 with 1 Axes>"
      ]
     },
     "metadata": {},
     "output_type": "display_data"
    }
   ],
   "source": [
    "# Code source: Jaques Grobler\n",
    "# License: BSD 3 clause\n",
    "\n",
    "\n",
    "import matplotlib.pyplot as plt\n",
    "import numpy as np\n",
    "from sklearn import datasets, linear_model, model_selection, preprocessing\n",
    "from sklearn.metrics import mean_squared_error, r2_score\n",
    "\n",
    "# Load the diabetes dataset\n",
    "diabetes_X, diabetes_y = datasets.load_diabetes(return_X_y=True)\n",
    "\n",
    "# Use only one feature\n",
    "diabetes_X = diabetes_X[:, np.newaxis, 2]\n",
    "\n",
    "# Split the data into training/testing sets\n",
    "diabetes_X_train = diabetes_X[:-20]\n",
    "diabetes_X_test = diabetes_X[-20:]\n",
    "\n",
    "# Split the targets into training/testing sets\n",
    "diabetes_y_train = diabetes_y[:-20]\n",
    "diabetes_y_test = diabetes_y[-20:]\n",
    "\n",
    "# Create linear regression object\n",
    "regr = linear_model.LinearRegression()\n",
    "\n",
    "# Train the model using the training sets\n",
    "regr.fit(diabetes_X_train, diabetes_y_train)\n",
    "\n",
    "# Make predictions using the testing set\n",
    "diabetes_y_pred = regr.predict(diabetes_X_test)\n",
    "\n",
    "# The coefficients\n",
    "print('Coefficients: \\n', regr.coef_)\n",
    "# The mean squared error\n",
    "print('Mean squared error: %.2f'\n",
    "      % mean_squared_error(diabetes_y_test, diabetes_y_pred))\n",
    "# The coefficient of determination: 1 is perfect prediction\n",
    "print('Coefficient of determination: %.2f'\n",
    "      % r2_score(diabetes_y_test, diabetes_y_pred))\n",
    "\n",
    "# Plot outputs\n",
    "plt.scatter(diabetes_X_test, diabetes_y_test,  color='black')\n",
    "plt.plot(diabetes_X_test, diabetes_y_pred, color='blue', linewidth=3)\n",
    "\n",
    "plt.xticks(())\n",
    "plt.yticks(())\n",
    "\n",
    "plt.show()"
   ]
  },
  {
   "cell_type": "markdown",
   "metadata": {},
   "source": [
    "We will also test linear regression with this same dataset, but using the other individual features."
   ]
  },
  {
   "cell_type": "code",
   "execution_count": 119,
   "metadata": {},
   "outputs": [
    {
     "name": "stdout",
     "output_type": "stream",
     "text": [
      "The number of features is:  10\n",
      "The features:  ['age', 'sex', 'bmi', 'bp', 's1', 's2', 's3', 's4', 's5', 's6']\n",
      "The number of examples in our dataset:  442\n",
      "[[ 0.03807591  0.05068012  0.06169621  0.02187235 -0.0442235  -0.03482076\n",
      "  -0.04340085 -0.00259226  0.01990842 -0.01764613]\n",
      " [-0.00188202 -0.04464164 -0.05147406 -0.02632783 -0.00844872 -0.01916334\n",
      "   0.07441156 -0.03949338 -0.06832974 -0.09220405]\n",
      " [ 0.08529891  0.05068012  0.04445121 -0.00567061 -0.04559945 -0.03419447\n",
      "  -0.03235593 -0.00259226  0.00286377 -0.02593034]\n",
      " [-0.08906294 -0.04464164 -0.01159501 -0.03665645  0.01219057  0.02499059\n",
      "  -0.03603757  0.03430886  0.02269202 -0.00936191]\n",
      " [ 0.00538306 -0.04464164 -0.03638469  0.02187235  0.00393485  0.01559614\n",
      "   0.00814208 -0.00259226 -0.03199144 -0.04664087]]\n"
     ]
    }
   ],
   "source": [
    "#  Before proceeding, let's explore the diabetes dataset\n",
    "#  Also, we no longer want to divide the data into training and test.  Instead, we will be using\n",
    "#  the whole dataset for cross-validation.\n",
    "#\n",
    "# Reloading the dataset\n",
    "diabetes_alldata = datasets.load_diabetes()\n",
    "diabetes_X = diabetes_alldata.data\n",
    "diabetes_Y = diabetes_alldata.target\n",
    "# Observe the number of features and the number of labels\n",
    "print('The number of features is: ', diabetes_X.shape[1])\n",
    "# Printing out the features\n",
    "print('The features: ', diabetes_alldata.feature_names)\n",
    "# The number of examples\n",
    "print('The number of examples in our dataset: ', diabetes_X.shape[0])\n",
    "#Observing the first 2 rows of the data\n",
    "\n",
    "print(diabetes_X[0:5])\n",
    "\n",
    "#According to the scikit documentation, each of these 10 feature variables have already been scaled.\n",
    "#So, we will not scale them prior to running linear regression.\n",
    "#\n",
    "#More particularly, they have been mean centered and scaled by the standard deviation times \n",
    "# n_samples (i.e. the sum of squares of each column totals 1). \n",
    "#This explains why e.g., the age feature can have negative values."
   ]
  },
  {
   "cell_type": "markdown",
   "metadata": {},
   "source": [
    "# Your code goes here"
   ]
  },
  {
   "cell_type": "code",
   "execution_count": 120,
   "metadata": {},
   "outputs": [
    {
     "data": {
      "text/plain": [
       "[153.24279071761313, 306.727574985305]"
      ]
     },
     "execution_count": 120,
     "metadata": {},
     "output_type": "execute_result"
    }
   ],
   "source": [
    "# Using the code above as a model, write a function that\n",
    "# runs linear regression on a data matrix X with target y, using only the ith feature in X, and returns the results in an array w where the first entry\n",
    "# is the intercept and the second entry is the coefficient on the ith feature.\n",
    "\n",
    "from sklearn import datasets, linear_model, model_selection, preprocessing\n",
    "from sklearn.metrics import mean_squared_error, r2_score\n",
    "\n",
    "def train_linear(X,y,i):\n",
    "    #### TO-DO #####\n",
    "    # i in [0,...,n-1]\n",
    "    \n",
    "    # Use only ith feature\n",
    "    x = X[:, np.newaxis, i]\n",
    "\n",
    "    # Split the data into training/testing sets\n",
    "    x_train = x[:-20]\n",
    "    x_test = x[-20:]\n",
    "\n",
    "    # Split the targets into training/testing sets\n",
    "    y_train = y[:-20]\n",
    "    y_test = y[-20:]\n",
    "\n",
    "    # Create linear regression object\n",
    "    regr = linear_model.LinearRegression()\n",
    "\n",
    "    # Train the model using the training sets\n",
    "    regr.fit(x_train, y_train)\n",
    "\n",
    "    # Make predictions using the testing set\n",
    "    y_pred = regr.predict(x_test)\n",
    "    \n",
    "    \n",
    "    ###############\n",
    "    w = [regr.intercept_] + [*regr.coef_]\n",
    "    return w # w = [w0, wi]\n",
    "\n",
    "\n",
    "train_linear(diabetes_X, diabetes_y, 0)\n"
   ]
  },
  {
   "cell_type": "code",
   "execution_count": 158,
   "metadata": {},
   "outputs": [],
   "source": [
    "#create own MSE function for linear functions\n",
    "\n",
    "def MSE_linear(x, y, w):\n",
    "    \n",
    "    train_size = x.shape[0]\n",
    "    mse = 0\n",
    "    \n",
    "    for i in range(train_size):\n",
    "        \n",
    "        y_pred = w[0] + np.dot(w[1], x[i])\n",
    "        mse = mse + (y_pred - y[i])**2\n",
    "    \n",
    "    return mse"
   ]
  },
  {
   "cell_type": "code",
   "execution_count": 163,
   "metadata": {},
   "outputs": [],
   "source": [
    "# TODO - Define a function that takes training and test sets as input, along with a weight vector w,\n",
    "# and returns the training and test error of the linear function defined by w.  Use MSE as the error function.\n",
    "\n",
    "def evaluate_err(X_train, X_test, y_train, y_test, w, i):\n",
    "    #### TO-DO #####\n",
    "\n",
    "    \n",
    "    train_error = MSE_linear(X_train, y_train, w) / X_train.shape[0]\n",
    "    test_error = MSE_linear(X_test,y_test,w) / X_test.shape[0]\n",
    "\n",
    "    \n",
    "#USES MODEL and api's, CAN USE THIS OR BEFORE METHOD\n",
    "#         # Create linear regression object\n",
    "#     regr = linear_model.LinearRegression()\n",
    "\n",
    "#     # Train the model using the training sets\n",
    "#     regr.fit(X_train, y_train)\n",
    "\n",
    "#     # Make predictions using the testing set\n",
    "#     diabetes_y_pred = regr.predict(X_test)\n",
    "\n",
    "#     # The mean squared error\n",
    "#     print('Mean squared error: %.2f'\n",
    "#           % mean_squared_error(y_test, diabetes_y_pred))\n",
    "#     # The coefficient of determination: 1 is perfect prediction\n",
    "#USES MODEL, CAN USE THIS OR BEFORE METHOD\n",
    "    \n",
    "    ##############\n",
    "    return int(train_error), int(test_error)\n"
   ]
  },
  {
   "cell_type": "code",
   "execution_count": 164,
   "metadata": {},
   "outputs": [
    {
     "data": {
      "text/plain": [
       "(5733, 5472)"
      ]
     },
     "execution_count": 164,
     "metadata": {},
     "output_type": "execute_result"
    }
   ],
   "source": [
    "i = 0\n",
    "\n",
    "X, y = datasets.load_diabetes(return_X_y=True)\n",
    "\n",
    "w = train_linear(X, y, i)\n",
    "\n",
    "x = X[:, np.newaxis, i]\n",
    "\n",
    "# Split the data into training/testing sets\n",
    "x_train = x[:-20]\n",
    "x_test = x[-20:]\n",
    "\n",
    "# Split the targets into training/testing sets\n",
    "y_train = y[:-20]\n",
    "y_test = y[-20:]\n",
    "\n",
    "evaluate_err(x_train, x_test, y_train, y_test, w, i)"
   ]
  },
  {
   "cell_type": "code",
   "execution_count": 123,
   "metadata": {},
   "outputs": [
    {
     "data": {
      "text/plain": [
       "(5717.095266000486, 5748.486964339176)"
      ]
     },
     "execution_count": 123,
     "metadata": {},
     "output_type": "execute_result"
    }
   ],
   "source": [
    "# TODO - Finish writting the k_fold_cross_validation function. \n",
    "# TODO - Returns the average training MSE and average test MSE from the k-fold cross validation\n",
    "# use Sklearns K-Folds cross-validator: https://scikit-learn.org/stable/modules/generated/sklearn.model_selection.KFold.html\n",
    "\n",
    "from sklearn.model_selection import KFold\n",
    "\n",
    "def k_fold_cross_validation(k, X, y, i):\n",
    "    \n",
    "    X = X[:, np.newaxis, i]\n",
    "    \n",
    "    kf = model_selection.KFold(n_splits=k, random_state=10, shuffle=True)\n",
    "    trainMSEs = []\n",
    "    testMSEs = []\n",
    "    for train_index, test_index in kf.split(X):\n",
    "        X_train, X_test = X[train_index], X[test_index]\n",
    "        y_train, y_test = y[train_index], y[test_index]\n",
    "        \n",
    "        # scaling the data matrix\n",
    "        scaler = preprocessing.StandardScaler().fit(X_train)\n",
    "        X_train = scaler.transform(X_train)\n",
    "        X_test = scaler.transform(X_test)\n",
    "    \n",
    "        # determine the training error and the test error\n",
    "        #### TO-DO #####\n",
    "       \n",
    "        #TRAIN ERROR\n",
    "        # Create linear regression object\n",
    "        regr = linear_model.LinearRegression()\n",
    "\n",
    "        # Train the model using the training sets\n",
    "        regr.fit(X_train, y_train)\n",
    "\n",
    "        # Make predictions using the testing set\n",
    "        y_pred_train = regr.predict(X_train)\n",
    "        \n",
    "        # MSE of Train data\n",
    "        err_train = mean_squared_error(y_train, y_pred_train)\n",
    "        trainMSEs.append(err_train)\n",
    "        \n",
    "        #TEST ERROR\n",
    "        \n",
    "        # Make predictions using the testing set\n",
    "        y_pred_test= regr.predict(X_test)\n",
    "        \n",
    "        # MSE of test data using y_pred of train data\n",
    "        err_test = mean_squared_error(y_test, y_pred_test)\n",
    "        testMSEs.append(err_test)\n",
    "        \n",
    "        ##############\n",
    "    avgtrainMSE = np.mean(trainMSEs)\n",
    "    avgtestMSE = np.mean(testMSEs)\n",
    "    return  avgtrainMSE, avgtestMSE\n",
    "\n",
    "i = 0\n",
    "X, y = datasets.load_diabetes(return_X_y=True)\n",
    "\n",
    "k_fold_cross_validation(5, X, y, i)\n"
   ]
  },
  {
   "cell_type": "code",
   "execution_count": 124,
   "metadata": {},
   "outputs": [
    {
     "name": "stdout",
     "output_type": "stream",
     "text": [
      "Feature Test MSE average\n",
      "1 age: 5748.486964339176\n",
      "2 sex: 6002.751393583516\n",
      "3 bmi: 3920.168381076469\n",
      "4 bp: 4779.053249201024\n",
      "5 s1: 5681.73738930403\n",
      "6 s2: 5779.024472948226\n",
      "7 s3: 5027.811690637469\n",
      "8 s4: 4863.581200239138\n",
      "9 s5: 4059.685000391498\n",
      "10 s6: 5082.308054247711\n"
     ]
    }
   ],
   "source": [
    "# TODO\n",
    "# For each feature i, run 5-fold cross-validation on the whole dataset and print the average test MSE for feature i\n",
    "#### TO-DO #####\n",
    "\n",
    "X, y = datasets.load_diabetes(return_X_y=True)\n",
    "features = diabetes_alldata.feature_names\n",
    "\n",
    "print('Feature Test MSE average')\n",
    "\n",
    "#number of features\n",
    "for i in range(diabetes_X.shape[1]):\n",
    "    err = k_fold_cross_validation(5, X, y, i)\n",
    "    print (f'{i + 1} {features[i]}: {err[1]}')\n",
    "\n",
    "###############"
   ]
  },
  {
   "cell_type": "code",
   "execution_count": 155,
   "metadata": {},
   "outputs": [
    {
     "name": "stdout",
     "output_type": "stream",
     "text": [
      "y_pred for example is:  132.93826729173162\n"
     ]
    }
   ],
   "source": [
    "#Feature with lowest error is BMI (i = 2)\n",
    "\n",
    "vals = np.array([ 0.07440129, -0.04464164, -0.02021751, 0.04597245, 0.07410845, 0.0328, -0.03603757, 0.07120998, 0.10635428, 0.03620126]\n",
    ")\n",
    "\n",
    "\n",
    "# Load the diabetes dataset\n",
    "diabetes_X, diabetes_y = datasets.load_diabetes(return_X_y=True)\n",
    "\n",
    "# Use only one feature\n",
    "x = diabetes_X[:, np.newaxis, 2]\n",
    "\n",
    "# Create linear regression object\n",
    "regr = linear_model.LinearRegression()\n",
    "\n",
    "# Train the model using the training sets\n",
    "regr.fit(x, diabetes_y)\n",
    "\n",
    "w = [regr.intercept_] + [*regr.coef_]\n",
    "\n",
    "y_pred = w[0] + np.dot(w[1], vals[2])\n",
    "#same as\n",
    "#y_pred = regr.predict(vals[2].reshape(1,-1))\n",
    "\n",
    "print('y_pred for example is: ',y_pred)\n",
    "\n",
    "\n"
   ]
  },
  {
   "cell_type": "code",
   "execution_count": null,
   "metadata": {},
   "outputs": [],
   "source": []
  },
  {
   "cell_type": "code",
   "execution_count": null,
   "metadata": {},
   "outputs": [],
   "source": []
  },
  {
   "cell_type": "code",
   "execution_count": null,
   "metadata": {},
   "outputs": [],
   "source": []
  }
 ],
 "metadata": {
  "kernelspec": {
   "display_name": "Python 3",
   "language": "python",
   "name": "python3"
  },
  "language_info": {
   "codemirror_mode": {
    "name": "ipython",
    "version": 3
   },
   "file_extension": ".py",
   "mimetype": "text/x-python",
   "name": "python",
   "nbconvert_exporter": "python",
   "pygments_lexer": "ipython3",
   "version": "3.8.5"
  }
 },
 "nbformat": 4,
 "nbformat_minor": 2
}
