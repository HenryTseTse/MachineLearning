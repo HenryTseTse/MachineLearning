{
 "cells": [
  {
   "cell_type": "markdown",
   "metadata": {},
   "source": [
    "# Programming Assignment 4 - Logistic Regression \n",
    "\n",
    "In the assignment, you will use gradient ascent to find the weights for the logistic regression problem.   \n",
    "\n",
    "As an example, we will use the widely-used breast cancer data set. This data set is described here:\n",
    "\n",
    "https://archive.ics.uci.edu/ml/machine-learning-databases/breast-cancer-wisconsin\n",
    "\n",
    "Each sample is a collection of features that were manually recorded by a physician upon inspecting a sample of cells from fine needle aspiration. The goal is to detect if the cells are benign or malignant."
   ]
  },
  {
   "cell_type": "markdown",
   "metadata": {},
   "source": [
    "## Step 1:  Getting, preprocessing, and understanding the dataset"
   ]
  },
  {
   "cell_type": "markdown",
   "metadata": {},
   "source": [
    "### Importing the standard libraries"
   ]
  },
  {
   "cell_type": "code",
   "execution_count": 1,
   "metadata": {},
   "outputs": [],
   "source": [
    "from sklearn.datasets import load_breast_cancer # taking included data set from Sklearn http://scikit-learn.org/stable/modules/generated/sklearn.datasets.load_breast_cancer.html\n",
    "from sklearn import preprocessing # preprocessing is what we do with the data before we run the learning algorithm\n",
    "from sklearn.model_selection import train_test_split \n",
    "import numpy as np\n",
    "import math\n",
    "\n",
    "import matplotlib.pyplot as plt\n",
    "%matplotlib inline"
   ]
  },
  {
   "cell_type": "markdown",
   "metadata": {},
   "source": [
    "### Importing the dataset"
   ]
  },
  {
   "cell_type": "code",
   "execution_count": 2,
   "metadata": {},
   "outputs": [],
   "source": [
    "# Loading the dataset\n",
    "cancer = load_breast_cancer()\n",
    "y = cancer.target\n",
    "X = cancer.data"
   ]
  },
  {
   "cell_type": "code",
   "execution_count": 3,
   "metadata": {},
   "outputs": [
    {
     "name": "stdout",
     "output_type": "stream",
     "text": [
      "(569, 30)\n",
      "(569,)\n"
     ]
    }
   ],
   "source": [
    "# Printing the shape of data (X) and target (Y) values \n",
    "print(X.shape)\n",
    "print(y.shape)"
   ]
  },
  {
   "cell_type": "markdown",
   "metadata": {},
   "source": [
    "### Data Pre-Processing\n",
    "#### Splitting the data into train and test before scaling the dataset\n"
   ]
  },
  {
   "cell_type": "code",
   "execution_count": 4,
   "metadata": {},
   "outputs": [],
   "source": [
    "# train_test_split to split the data, specifying the random_state so everyone gets the same split\n",
    "# for grading purposes\n",
    "X_train, X_test, y_train, y_test = train_test_split(X, y,random_state=42)"
   ]
  },
  {
   "cell_type": "markdown",
   "metadata": {},
   "source": [
    "#### Scale the data since we will be using gradient ascent"
   ]
  },
  {
   "cell_type": "code",
   "execution_count": 5,
   "metadata": {},
   "outputs": [],
   "source": [
    "scaler = preprocessing.StandardScaler().fit(X_train)\n",
    "X_train = scaler.transform(X_train)\n",
    "X_test = scaler.transform(X_test)"
   ]
  },
  {
   "cell_type": "code",
   "execution_count": 6,
   "metadata": {},
   "outputs": [
    {
     "name": "stdout",
     "output_type": "stream",
     "text": [
      "(426, 30)\n",
      "(426,)\n"
     ]
    }
   ],
   "source": [
    "# TODO - Print the shape of x_train and y_train \n",
    " # When you print the shape of x_train, it should print (426, 30)\n",
    " # When you print the shape of y_train, it should print (426,)\n",
    "print(X_train.shape)\n",
    "print(y_train.shape)"
   ]
  },
  {
   "cell_type": "markdown",
   "metadata": {},
   "source": [
    "#### Adding a column of ones to the  matrices $X_{train}$ and  $X_{test}$\n",
    "After adding a column of ones $X_{train}=\\left[\\begin{matrix}\n",
    "1& x^{(1)}_1& x^{(1)}_2 &\\ldots& x^{(1)}_d\\\\\n",
    "1& x^{(2)}_1& x^{(2)}_2 &\\ldots& x^{(2)}_d\\\\\n",
    "\\vdots & \\vdots &\\vdots & & \\vdots \\\\\n",
    "1& x^{(N')}_1& x^{(N')}_2 &\\ldots& x^{(N')}_d\\\\\n",
    "\\end{matrix}\\right]$\n",
    "\n",
    "Similarly for $X_{test}$"
   ]
  },
  {
   "cell_type": "code",
   "execution_count": 7,
   "metadata": {},
   "outputs": [
    {
     "name": "stdout",
     "output_type": "stream",
     "text": [
      "The training data has dimensions:  (426, 31) . The testing data has dimensions:  (143, 31)\n",
      "[[ 1.         -0.34913849 -1.43851335 -0.41172595 -0.39047943 -1.86366229\n",
      "  -1.26860704 -0.82617052 -0.95286585 -1.72936805 -0.9415409  -0.86971355\n",
      "  -1.35865347 -0.83481506 -0.57230673 -0.74586846 -0.65398319 -0.52583524\n",
      "  -0.94677147 -0.53781728 -0.63449458 -0.54268486 -1.65565452 -0.58986401\n",
      "  -0.52555985 -1.51066925 -0.89149994 -0.75021715 -0.91671059 -0.92508585\n",
      "  -0.80841115]\n",
      " [ 1.         -0.20468665  0.31264011 -0.13367256 -0.27587995  1.07807258\n",
      "   0.86354605  0.72631375  0.89844062  1.17876963  1.47437716 -0.04022275\n",
      "  -0.50962253  0.10947722 -0.13472838 -0.52489487 -0.14934475  0.07460028\n",
      "   0.23747244 -0.43028253  0.08289146  0.04148684  0.68989862  0.19412774\n",
      "  -0.05193356  1.12941497  0.92394223  1.22221738  1.43655962  1.14955889\n",
      "   1.56911143]]\n"
     ]
    }
   ],
   "source": [
    "# Appending a column of ones to x_train \n",
    "\n",
    "# Step 1: Create a column vector of ones (i.e. a vector of shape N',1)\n",
    "ones = np.ones(X_train.shape[0]).reshape((X_train.shape[0], 1))\n",
    "\n",
    "\n",
    "# Step 2: Append a column of ones in the beginning of x_train\n",
    "X_train = np.hstack((ones, X_train))\n",
    "\n",
    "# Now do the same for the test data\n",
    "# Step 1: Create a column vector of ones (i.e. a vector of shape N\",1)\n",
    "ones = np.ones(X_test.shape[0]).reshape((X_test.shape[0], 1))\n",
    "# Stemp 2: Append a column of ones in the beginning of x_test\n",
    "X_test = np.hstack((ones, X_test))\n",
    "\n",
    "\n",
    "# We can check that everything worked correctly by:\n",
    "# Printing out the new dimensions\n",
    "print(\"The training data has dimensions: \", X_train.shape, \". The testing data has dimensions: \",X_test.shape)\n",
    "# Looking at the first two rows of X_train to check everything worked as expected\n",
    "print(X_train[0:2])"
   ]
  },
  {
   "cell_type": "markdown",
   "metadata": {},
   "source": [
    "### Understanding the dataset"
   ]
  },
  {
   "cell_type": "code",
   "execution_count": 8,
   "metadata": {},
   "outputs": [
    {
     "name": "stdout",
     "output_type": "stream",
     "text": [
      "['mean radius' 'mean texture' 'mean perimeter' 'mean area'\n",
      " 'mean smoothness' 'mean compactness' 'mean concavity'\n",
      " 'mean concave points' 'mean symmetry' 'mean fractal dimension'\n",
      " 'radius error' 'texture error' 'perimeter error' 'area error'\n",
      " 'smoothness error' 'compactness error' 'concavity error'\n",
      " 'concave points error' 'symmetry error' 'fractal dimension error'\n",
      " 'worst radius' 'worst texture' 'worst perimeter' 'worst area'\n",
      " 'worst smoothness' 'worst compactness' 'worst concavity'\n",
      " 'worst concave points' 'worst symmetry' 'worst fractal dimension']\n"
     ]
    }
   ],
   "source": [
    "# Printing the names of all the features\n",
    "print(cancer.feature_names)"
   ]
  },
  {
   "cell_type": "code",
   "execution_count": 9,
   "metadata": {},
   "outputs": [],
   "source": [
    "# You can add your own code here to better understand the dataset"
   ]
  },
  {
   "cell_type": "markdown",
   "metadata": {},
   "source": [
    "\n",
    "# Step 2: Fitting the model\n",
    "## Implementing Logistic Regression Using Gradient Ascent"
   ]
  },
  {
   "cell_type": "markdown",
   "metadata": {},
   "source": [
    "\n",
    " Before writing the gradient ascent code, first write some helpful functions"
   ]
  },
  {
   "cell_type": "markdown",
   "metadata": {},
   "source": [
    "\n",
    " \n",
    "### Sigmoid($z$)\n",
    "The first function you will write is sigmoid($z$)\n",
    "\n",
    "sigmoid($z$) takes as input a column vector of real numbers, $z^T = [z_1, z_2, ..., z_{m}]$.\n",
    "\n",
    "It should produce as output a column vector $\\left[\\frac{1}{1+exp(-z_1)},\\frac{1}{1+exp(-z_2)},...,\\frac{1}{1+exp(-z_{m})}\\right]^T$"
   ]
  },
  {
   "cell_type": "code",
   "execution_count": 10,
   "metadata": {},
   "outputs": [],
   "source": [
    "# TODO - Write the sigmoid function (z can be a scalar or a vector)\n",
    "\n",
    "\n",
    "\n",
    "def sigmoid(z):\n",
    "    ## TODO\n",
    "    out = np.zeros(len(z), dtype=np.float128)\n",
    "    \n",
    "    for i in range(len(out)):   \n",
    "        \n",
    "        val = (1 / (1 + np.exp(-z[i])))\n",
    "        \n",
    "        #set certain val to round to 0\n",
    "        if val < .0000001:\n",
    "            out[i] = 0\n",
    "        else:\n",
    "            out[i] = val\n",
    "    \n",
    "    return out\n",
    "    ## "
   ]
  },
  {
   "cell_type": "code",
   "execution_count": 11,
   "metadata": {},
   "outputs": [
    {
     "name": "stdout",
     "output_type": "stream",
     "text": [
      "[0.5]\n"
     ]
    }
   ],
   "source": [
    "# VERIFY - Sigmoid of 0 should be equal to 0.5\n",
    "print(sigmoid([0]))"
   ]
  },
  {
   "cell_type": "markdown",
   "metadata": {},
   "source": [
    "### Initializing ${\\bf w}$\n",
    "For testing the next functions, we create a coefficient vector, ${\\bf w}$.\n",
    "We will initialize the coeffients to be random values between 0 and 0.1, e.g., ${\\bf w}^T = [0.03,0.07,\\ldots ,0.04]$.\n",
    "Note that we could have chosen another way to initialize the coefficients."
   ]
  },
  {
   "cell_type": "code",
   "execution_count": 12,
   "metadata": {},
   "outputs": [
    {
     "name": "stdout",
     "output_type": "stream",
     "text": [
      "(31, 1)\n"
     ]
    }
   ],
   "source": [
    "# Initialize parameters w\n",
    "# So that everyone will get the same results, we specify the seed to the random number generator\n",
    "rng = np.random.default_rng(seed=42)\n",
    "w = rng.random((X_train.shape[1], 1))/10\n",
    "print(w.shape)"
   ]
  },
  {
   "cell_type": "markdown",
   "metadata": {},
   "source": [
    "### Our hypothesis, $h({\\bf x})$\n",
    "The next  function to write is our hypothesis function. \n",
    "\n",
    "For example if our design matrix $X$ consists of single example $X=[1,x_1,x_2,\\ldots,x_d]$ and  weights ${\\bf w}^T=[w_0,w_2,\\ldots, w_d]$, it returns $h({\\bf x})=\\frac{1}{1+e^{-\\left({w_{0}\\cdot 1 +w_1\\cdot x_1+\\cdots w_d\\cdot x_d}\\right)}}$\n",
    "\n",
    "If given a  matrix consisting of $N'$ examples \n",
    "$X=\\left[\\begin{matrix}\n",
    "1& x^{(1)}_1& x^{(1)}_2 &\\ldots& x^{(1)}_d\\\\\n",
    "1& x^{(2)}_1& x^{(2)}_2 &\\ldots& x^{(2)}_d\\\\\n",
    "\\vdots & \\vdots &\\vdots & & \\vdots \\\\\n",
    "1& x^{(N')}_1& x^{(N')}_2 &\\ldots& x^{(N')}_d\\\\\n",
    "\\end{matrix}\\right]$\n",
    "and  weights ${\\bf w}^T=[w_0,w_2,\\ldots, w_d]$, the function returns a column vector\n",
    "$[h({\\bf x}^{(1)}),h({\\bf x}^{(2)},\\ldots, h({\\bf x}^{(N')}]^T$"
   ]
  },
  {
   "cell_type": "code",
   "execution_count": 13,
   "metadata": {},
   "outputs": [],
   "source": [
    "# predict the probability that a patient has cancer \n",
    "# TODO - Write the hypothesis function \n",
    "def hypothesis(X , w):\n",
    "    #TODO\n",
    "    out = np.zeros(X.shape[0]).reshape((X.shape[0], 1))\n",
    "    \n",
    "    for i in range(len(X)):\n",
    "        out[i] = np.dot(X[i], w)\n",
    "\n",
    "    out = sigmoid(out)\n",
    "        \n",
    "    return out\n",
    "    ##\n"
   ]
  },
  {
   "cell_type": "markdown",
   "metadata": {},
   "source": [
    "Before moving on, do a quick check that your function can accept a matrix as an argument. "
   ]
  },
  {
   "cell_type": "code",
   "execution_count": 14,
   "metadata": {},
   "outputs": [
    {
     "name": "stdout",
     "output_type": "stream",
     "text": [
      "(426,)\n",
      "(426,)\n"
     ]
    }
   ],
   "source": [
    "# Compute y_hat using our training examples and w (with the previous random setting of w).  \n",
    "# This is just a preliminary test of the hypothesis function\n",
    "\n",
    "yhat = hypothesis(X_train, w)\n",
    "\n",
    "# print the sizes of yhat and y as a first check that the function performed correctly\n",
    "print(yhat.shape) # this should return (426, 1)\n",
    "print(y_train.shape) # this should return (426,)\n"
   ]
  },
  {
   "cell_type": "markdown",
   "metadata": {},
   "source": [
    "### Log-Likelihood Function.\n",
    "Write the code to calculate the log likelihood function $\\ell({\\bf w})=\n",
    "\\sum_{i=1}^{N'}y^{(i)}\\ln(h({\\bf x}^{(i)})) +(1- y^{(i)})\\ln(1-h({\\bf x}^{(i)}))$\n",
    "\n",
    "The input is a matrix consisting of $N'$ examples $X=\\left[\\begin{matrix}\n",
    "1& x^{(1)}_1& x^{(1)}_2 &\\ldots& x^{(1)}_d\\\\\n",
    "1& x^{(2)}_1& x^{(2)}_2 &\\ldots& x^{(2)}_d\\\\\n",
    "\\vdots & \\vdots &\\vdots & & \\vdots \\\\\n",
    "1& x^{(N')}_1& x^{(N')}_2 &\\ldots& x^{(N')}_d\\\\\n",
    "\\end{matrix}\\right]$\n",
    "and a column vector ${\\bf y}^T=[y^{(1)},y^{(2)},\\dots,y^{(N')}]$ of labels for $X$.\n",
    "\n",
    "The output is $\\ell({\\bf w})$"
   ]
  },
  {
   "cell_type": "code",
   "execution_count": 15,
   "metadata": {},
   "outputs": [],
   "source": [
    "# TODO - Write the log likelihood function \n",
    "# Depending on the precision being used, you may need to ensure that you are not trying to compute log(0)\n",
    "def log_likelihood(X , y , w ):\n",
    "    ##TODO\n",
    "    \n",
    "    yhat = hypothesis(X, w)\n",
    "    \n",
    "    log_likelihood = 0\n",
    "    for i in range(X.shape[0]):\n",
    "        \n",
    "        if yhat[i] == 0 or (1 - yhat[i]) == 0:\n",
    "            continue\n",
    "        val = y[i] * np.log(yhat[i]) + (1 - y[i]) * np.log(1 - yhat[i])\n",
    "        log_likelihood += val\n",
    "        \n",
    "    ##\n",
    "    return log_likelihood # you should return a real number, not a list containing a real number\n",
    "\n"
   ]
  },
  {
   "cell_type": "markdown",
   "metadata": {},
   "source": [
    "Before moving on, do a quick check of your log_likelihood function"
   ]
  },
  {
   "cell_type": "code",
   "execution_count": 16,
   "metadata": {},
   "outputs": [
    {
     "name": "stdout",
     "output_type": "stream",
     "text": [
      "-496.06217331717182006\n"
     ]
    }
   ],
   "source": [
    "# VERIFY - The value should be equal to -496.06217331717187.\n",
    "print(log_likelihood(X_train,y_train,w))"
   ]
  },
  {
   "cell_type": "markdown",
   "metadata": {},
   "source": [
    "# Gradient Ascent\n",
    "Now write the code to perform gradient ascent.  You will use the update rule from the lecture notes."
   ]
  },
  {
   "cell_type": "code",
   "execution_count": 17,
   "metadata": {},
   "outputs": [],
   "source": [
    "# TODO - Write the gradient ascent function \n",
    "def Logistic_Regresion_Gradient_Ascent(X, y, learning_rate, num_iters):\n",
    "    # For every 100 iterations, store the log_likelihood for the current w\n",
    "    # Initializing log_likelihood to be an empty list  \n",
    "    log_likelihood_values = []  \n",
    "    # Initialize w to be a random vector of values between 0 and 0.1 of shape x_train.shape[1],1\n",
    "    rng = np.random.default_rng(seed=42)\n",
    "    w = rng.random((X_train.shape[1],1))/10\n",
    "    # Initialize N to the number of training examples\n",
    "    N = X.shape[0] \n",
    "    ## TODO \n",
    "    \n",
    "    temp = np.zeros(len(w))\n",
    "    \n",
    "    for i in range(num_iters):\n",
    "        \n",
    "        for j in range(len(w)):\n",
    "            temp[j] = w[j] + ( (learning_rate / N) * log_likelihood(X, y, w) )\n",
    "\n",
    "        w = temp\n",
    "    ##\n",
    "        if (i % 100) == 0:\n",
    "            log_likelihood_values.append(log_likelihood(X,y,w))\n",
    "        \n",
    "    return w, log_likelihood_values"
   ]
  },
  {
   "cell_type": "markdown",
   "metadata": {},
   "source": [
    "### After completing the code above, run the following"
   ]
  },
  {
   "cell_type": "code",
   "execution_count": 26,
   "metadata": {},
   "outputs": [
    {
     "name": "stderr",
     "output_type": "stream",
     "text": [
      "<ipython-input-10-216108069523>:11: RuntimeWarning: overflow encountered in exp\n",
      "  val = (1 / (1 + np.exp(-z[i])))\n"
     ]
    },
    {
     "name": "stdout",
     "output_type": "stream",
     "text": [
      "[-41.89360837 -41.74152823 -41.71503439 -41.70528879 -41.66326631\n",
      " -41.57538677 -41.61478778 -41.69371039 -41.71299725 -41.70804761\n",
      " -41.62260251 -41.65813235 -41.57998382 -41.60393405 -41.62867974\n",
      " -41.66310827 -41.66636063 -41.70594535 -41.662712   -41.66862527\n",
      " -41.53071052 -41.63397093 -41.53022281 -41.45907325 -41.46953241\n",
      " -41.51370684 -41.52666885 -41.62086291 -41.69988447 -41.62833476\n",
      " -41.50791561]\n"
     ]
    }
   ],
   "source": [
    "learning_rate = 0.5\n",
    "num_iters = 5000 # The number of iterations to run the gradient ascent algorithm\n",
    "\n",
    "w, log_likelihood_values = Logistic_Regresion_Gradient_Ascent(X_train, y_train, learning_rate, num_iters)\n",
    "print(w)\n",
    "# print(log_likelihood_values)"
   ]
  },
  {
   "cell_type": "markdown",
   "metadata": {},
   "source": [
    "# Plotting Likelihood v/s Number of Iterations."
   ]
  },
  {
   "cell_type": "code",
   "execution_count": 27,
   "metadata": {},
   "outputs": [
    {
     "data": {
      "image/png": "[encoded data removed]",
      "text/plain": [
       "<Figure size 432x288 with 1 Axes>"
      ]
     },
     "metadata": {
      "needs_background": "light"
     },
     "output_type": "display_data"
    }
   ],
   "source": [
    "# Run this cell to plot Likelihood v/s Number of Iterations.\n",
    "iters = np.array(range(0,num_iters,100))\n",
    "plt.plot(iters,log_likelihood_values,'.-',color='green')\n",
    "plt.xlabel('Number of iterations')\n",
    "plt.ylabel('Likelihood')\n",
    "plt.title(\"Likelihood vs Number of Iterations.\")\n",
    "plt.grid()"
   ]
  },
  {
   "cell_type": "markdown",
   "metadata": {},
   "source": [
    "You should see the likelihood increasing as number of Iterations increase."
   ]
  },
  {
   "cell_type": "markdown",
   "metadata": {},
   "source": [
    "### The rest of your code goes here"
   ]
  },
  {
   "cell_type": "code",
   "execution_count": 20,
   "metadata": {},
   "outputs": [],
   "source": [
    "#print TP,TN,FP,FN,TPR,FPR\n",
    "def getAccuracy(w):\n",
    "    \n",
    "    hyp = hypothesis(X_test, w)\n",
    "\n",
    "    TP, FP, TN, FN = 0, 0, 0, 0\n",
    "\n",
    "    for i in range(len(hyp)):\n",
    "        \n",
    "    \n",
    "\n",
    "        #class = 0\n",
    "        if hyp[i] < .5:\n",
    "\n",
    "            # True Negative\n",
    "            if y_test[i] == 0:\n",
    "                TN += 1\n",
    "\n",
    "            #False Negative\n",
    "            else:\n",
    "                FN += 1\n",
    "        #class = 1\n",
    "        else:\n",
    "\n",
    "            #True Positive\n",
    "            if y_test[i] == 1:\n",
    "                TP += 1\n",
    "\n",
    "            #False Positive\n",
    "            else:\n",
    "                FP += 1\n",
    "\n",
    "    print('TP: ',TP)\n",
    "    print('TN: ',TN)\n",
    "    print('FP: ',FP)\n",
    "    print('FN: ',FN)\n",
    "\n",
    "    TPR = TP / (TP + FN)\n",
    "    FPR = FP / (FP + TN)\n",
    "\n",
    "    print('TPR: ', TPR)\n",
    "    print('FPR: ',FPR)\n"
   ]
  },
  {
   "cell_type": "markdown",
   "metadata": {},
   "source": [
    "# Step 3: Evaluating your model"
   ]
  },
  {
   "cell_type": "code",
   "execution_count": 21,
   "metadata": {},
   "outputs": [
    {
     "name": "stderr",
     "output_type": "stream",
     "text": [
      "<ipython-input-10-216108069523>:11: RuntimeWarning: overflow encountered in exp\n",
      "  val = (1 / (1 + np.exp(-z[i])))\n"
     ]
    },
    {
     "name": "stdout",
     "output_type": "stream",
     "text": [
      "[-33.00262658 -33.04513271 -33.00081515 -33.02716321 -33.0624146\n",
      " -32.94811515 -32.98180306 -32.99906629 -33.0461958  -32.9893453\n",
      " -33.01224011 -32.98721892 -32.99987655 -33.00139113 -33.04504039\n",
      " -33.0619954  -33.07168847 -33.12712016 -33.06067076 -33.08321486\n",
      " -33.07060417 -33.13021712 -33.03388199 -33.03166634 -33.01294542\n",
      " -33.04067963 -33.03838207 -33.08143262 -33.03641683 -32.97094731\n",
      " -32.96100965]\n",
      "TP:  80\n",
      "TN:  52\n",
      "FP:  2\n",
      "FN:  9\n",
      "TPR:  0.898876404494382\n",
      "FPR:  0.037037037037037035\n"
     ]
    }
   ],
   "source": [
    "learning_rate = 0.1\n",
    "num_iters = 5000 # The number of iterations to run the gradient ascent algorithm\n",
    "\n",
    "w, log_likelihood_values = Logistic_Regresion_Gradient_Ascent(X_test, y_test, learning_rate, num_iters)\n",
    "print(w)\n",
    "\n",
    "getAccuracy(w)"
   ]
  },
  {
   "cell_type": "code",
   "execution_count": 22,
   "metadata": {},
   "outputs": [
    {
     "name": "stderr",
     "output_type": "stream",
     "text": [
      "<ipython-input-10-216108069523>:11: RuntimeWarning: overflow encountered in exp\n",
      "  val = (1 / (1 + np.exp(-z[i])))\n"
     ]
    },
    {
     "name": "stdout",
     "output_type": "stream",
     "text": [
      "[-33.38008246 -33.64926326 -33.40252523 -33.47974999 -33.56860287\n",
      " -33.29655324 -33.2320319  -33.29607643 -33.3336572  -33.29411644\n",
      " -33.1802258  -33.5346956  -33.4282281  -33.45321804 -33.5562355\n",
      " -33.55748841 -33.87096805 -34.03415858 -33.54869424 -33.55468468\n",
      " -33.72428783 -33.89233668 -33.6433993  -33.60946338 -33.3852188\n",
      " -33.65156665 -33.39989261 -33.34791208 -33.26884106 -33.13293821\n",
      " -33.07471698]\n",
      "TP:  80\n",
      "TN:  52\n",
      "FP:  2\n",
      "FN:  9\n",
      "TPR:  0.898876404494382\n",
      "FPR:  0.037037037037037035\n"
     ]
    }
   ],
   "source": [
    "learning_rate = 0.9\n",
    "num_iters = 5000 # The number of iterations to run the gradient ascent algorithm\n",
    "\n",
    "w, log_likelihood_values = Logistic_Regresion_Gradient_Ascent(X_test, y_test, learning_rate, num_iters)\n",
    "print(w)\n",
    "\n",
    "getAccuracy(w)"
   ]
  },
  {
   "cell_type": "code",
   "execution_count": 23,
   "metadata": {},
   "outputs": [
    {
     "name": "stderr",
     "output_type": "stream",
     "text": [
      "<ipython-input-10-216108069523>:11: RuntimeWarning: overflow encountered in exp\n",
      "  val = (1 / (1 + np.exp(-z[i])))\n"
     ]
    },
    {
     "name": "stdout",
     "output_type": "stream",
     "text": [
      "[-32.85789633 -32.91533054 -32.86544535 -32.85193869 -32.80754539\n",
      " -32.72082675 -32.83731749 -32.7465358  -32.79464695 -32.64820171\n",
      " -32.71321872 -32.78535165 -32.74154737 -32.870153   -32.88732202\n",
      " -32.89525419 -33.00421067 -33.18115195 -33.06959178 -33.09675882\n",
      " -33.01389993 -33.07525306 -32.90809435 -32.82586339 -32.9382543\n",
      " -32.8626415  -32.89998193 -32.82433863 -32.77031288 -32.61195503\n",
      " -32.64034535]\n",
      "TP:  80\n",
      "TN:  52\n",
      "FP:  2\n",
      "FN:  9\n",
      "TPR:  0.898876404494382\n",
      "FPR:  0.037037037037037035\n"
     ]
    }
   ],
   "source": [
    "learning_rate = 0.5\n",
    "num_iters = 1000 # The number of iterations to run the gradient ascent algorithm\n",
    "\n",
    "w, log_likelihood_values = Logistic_Regresion_Gradient_Ascent(X_test, y_test, learning_rate, num_iters)\n",
    "print(w)\n",
    "\n",
    "getAccuracy(w)"
   ]
  },
  {
   "cell_type": "code",
   "execution_count": 24,
   "metadata": {},
   "outputs": [
    {
     "name": "stderr",
     "output_type": "stream",
     "text": [
      "<ipython-input-10-216108069523>:11: RuntimeWarning: overflow encountered in exp\n",
      "  val = (1 / (1 + np.exp(-z[i])))\n"
     ]
    },
    {
     "name": "stdout",
     "output_type": "stream",
     "text": [
      "[-33.00270757 -33.04521369 -33.00089614 -33.0272442  -33.06249558\n",
      " -32.94819613 -32.98188404 -32.99914727 -33.04627678 -32.98942628\n",
      " -33.0123211  -32.98729991 -32.99995754 -33.00147212 -33.04512137\n",
      " -33.06207638 -33.07176946 -33.12720114 -33.06075175 -33.08329584\n",
      " -33.07068516 -33.1302981  -33.03396297 -33.03174732 -33.0130264\n",
      " -33.04076062 -33.03846305 -33.0815136  -33.03649781 -32.97102829\n",
      " -32.96109064]\n",
      "TP:  80\n",
      "TN:  52\n",
      "FP:  2\n",
      "FN:  9\n",
      "TPR:  0.898876404494382\n",
      "FPR:  0.037037037037037035\n"
     ]
    }
   ],
   "source": [
    "learning_rate = 0.1\n",
    "num_iters = 8000 # The number of iterations to run the gradient ascent algorithm\n",
    "\n",
    "w, log_likelihood_values = Logistic_Regresion_Gradient_Ascent(X_test, y_test, learning_rate, num_iters)\n",
    "print(w)\n",
    "\n",
    "getAccuracy(w)"
   ]
  },
  {
   "cell_type": "code",
   "execution_count": 25,
   "metadata": {},
   "outputs": [
    {
     "name": "stderr",
     "output_type": "stream",
     "text": [
      "<ipython-input-10-216108069523>:11: RuntimeWarning: overflow encountered in exp\n",
      "  val = (1 / (1 + np.exp(-z[i])))\n"
     ]
    },
    {
     "name": "stdout",
     "output_type": "stream",
     "text": [
      "[-12.84234123 -12.8755408  -12.83115503 -12.84995674 -12.90800258\n",
      " -12.81871385 -12.83783388 -12.83620275 -12.90249964 -12.86814515\n",
      " -12.87743117 -12.82450513 -12.85205777 -12.83548235 -12.87195428\n",
      " -12.89245776 -12.86258854 -12.9113044  -12.83608732 -12.85580488\n",
      " -12.84444953 -12.88772015 -12.82324676 -12.82564832 -12.83670467\n",
      " -12.89506299 -12.8657072  -12.90755313 -12.8954516  -12.84068406\n",
      " -12.83357523]\n",
      "TP:  80\n",
      "TN:  52\n",
      "FP:  2\n",
      "FN:  9\n",
      "TPR:  0.898876404494382\n",
      "FPR:  0.037037037037037035\n"
     ]
    }
   ],
   "source": [
    "learning_rate = 0.01\n",
    "num_iters = 8000 # The number of iterations to run the gradient ascent algorithm\n",
    "\n",
    "w, log_likelihood_values = Logistic_Regresion_Gradient_Ascent(X_test, y_test, learning_rate, num_iters)\n",
    "print(w)\n",
    "\n",
    "getAccuracy(w)"
   ]
  },
  {
   "cell_type": "code",
   "execution_count": 26,
   "metadata": {},
   "outputs": [
    {
     "name": "stdout",
     "output_type": "stream",
     "text": [
      "[-3.74799307 -3.78166708 -3.73962962 -3.75559775 -3.81574666 -3.72743366\n",
      " -3.74912063 -3.74643784 -3.8120566  -3.77976103 -3.7878741  -3.73239453\n",
      " -3.76063603 -3.74281966 -3.78070814 -3.80223929 -3.76984299 -3.81892203\n",
      " -3.74258952 -3.76215879 -3.74972798 -3.790131   -3.72831466 -3.73598866\n",
      " -3.74726835 -3.80545725 -3.7784496  -3.82059575 -3.80945906 -3.75646309\n",
      " -3.75021163]\n",
      "TP:  80\n",
      "TN:  52\n",
      "FP:  2\n",
      "FN:  9\n",
      "TPR:  0.898876404494382\n",
      "FPR:  0.037037037037037035\n"
     ]
    }
   ],
   "source": [
    "learning_rate = 0.001\n",
    "num_iters = 10000 # The number of iterations to run the gradient ascent algorithm\n",
    "\n",
    "w, log_likelihood_values = Logistic_Regresion_Gradient_Ascent(X_test, y_test, learning_rate, num_iters)\n",
    "print(w)\n",
    "\n",
    "getAccuracy(w)"
   ]
  },
  {
   "cell_type": "code",
   "execution_count": 27,
   "metadata": {},
   "outputs": [
    {
     "name": "stderr",
     "output_type": "stream",
     "text": [
      "<ipython-input-10-216108069523>:11: RuntimeWarning: overflow encountered in exp\n",
      "  val = (1 / (1 + np.exp(-z[i])))\n"
     ]
    },
    {
     "name": "stdout",
     "output_type": "stream",
     "text": [
      "[-22.9328337  -22.97911054 -22.92399573 -22.92934108 -22.98887313\n",
      " -22.88861176 -22.91946771 -22.9238274  -22.98715894 -22.94359652\n",
      " -22.9533604  -22.91481659 -22.93747238 -22.93318625 -22.95632302\n",
      " -22.97143179 -22.95093644 -23.01264219 -22.94466248 -22.95301317\n",
      " -22.95258118 -23.0052299  -22.92789456 -22.9263319  -22.9294217\n",
      " -22.97406697 -22.95105667 -22.99269842 -22.97716644 -22.92534794\n",
      " -22.91306525]\n",
      "TP:  80\n",
      "TN:  52\n",
      "FP:  2\n",
      "FN:  9\n",
      "TPR:  0.898876404494382\n",
      "FPR:  0.037037037037037035\n"
     ]
    }
   ],
   "source": [
    "learning_rate = 0.05\n",
    "num_iters = 5000 # The number of iterations to run the gradient ascent algorithm\n",
    "\n",
    "w, log_likelihood_values = Logistic_Regresion_Gradient_Ascent(X_test, y_test, learning_rate, num_iters)\n",
    "print(w)\n",
    "\n",
    "getAccuracy(w)"
   ]
  },
  {
   "cell_type": "code",
   "execution_count": 28,
   "metadata": {},
   "outputs": [
    {
     "name": "stderr",
     "output_type": "stream",
     "text": [
      "<ipython-input-10-216108069523>:11: RuntimeWarning: overflow encountered in exp\n",
      "  val = (1 / (1 + np.exp(-z[i])))\n"
     ]
    },
    {
     "name": "stdout",
     "output_type": "stream",
     "text": [
      "[-32.85789633 -32.91533054 -32.86544535 -32.85193869 -32.80754539\n",
      " -32.72082675 -32.83731749 -32.7465358  -32.79464695 -32.64820171\n",
      " -32.71321872 -32.78535165 -32.74154737 -32.870153   -32.88732202\n",
      " -32.89525419 -33.00421067 -33.18115195 -33.06959178 -33.09675882\n",
      " -33.01389993 -33.07525306 -32.90809435 -32.82586339 -32.9382543\n",
      " -32.8626415  -32.89998193 -32.82433863 -32.77031288 -32.61195503\n",
      " -32.64034535]\n",
      "TP:  80\n",
      "TN:  52\n",
      "FP:  2\n",
      "FN:  9\n",
      "TPR:  0.898876404494382\n",
      "FPR:  0.037037037037037035\n"
     ]
    }
   ],
   "source": [
    "learning_rate = 0.5\n",
    "num_iters = 1000 # The number of iterations to run the gradient ascent algorithm\n",
    "\n",
    "w, log_likelihood_values = Logistic_Regresion_Gradient_Ascent(X_test, y_test, learning_rate, num_iters)\n",
    "print(w)\n",
    "\n",
    "getAccuracy(w)"
   ]
  },
  {
   "cell_type": "code",
   "execution_count": 29,
   "metadata": {},
   "outputs": [
    {
     "name": "stderr",
     "output_type": "stream",
     "text": [
      "<ipython-input-10-216108069523>:11: RuntimeWarning: overflow encountered in exp\n",
      "  val = (1 / (1 + np.exp(-z[i])))\n"
     ]
    },
    {
     "name": "stdout",
     "output_type": "stream",
     "text": [
      "[-11.6824619  -11.66540475 -11.65208891 -11.66580843 -11.65348392\n",
      " -11.60591092 -11.66967443 -11.53696679 -11.59469042 -11.4869139\n",
      " -11.54853624 -11.53397702 -11.54870687 -11.64288709 -11.68360057\n",
      " -11.72982931 -11.76710345 -11.91290422 -11.76094352 -11.79021363\n",
      " -11.69413515 -11.74956454 -11.6348097  -11.58536902 -11.73698023\n",
      " -11.70867835 -11.70180378 -11.61880398 -11.57529046 -11.46196483\n",
      " -11.5292228 ]\n",
      "TP:  80\n",
      "TN:  52\n",
      "FP:  2\n",
      "FN:  9\n",
      "TPR:  0.898876404494382\n",
      "FPR:  0.037037037037037035\n"
     ]
    }
   ],
   "source": [
    "learning_rate = 0.5\n",
    "num_iters = 100 # The number of iterations to run the gradient ascent algorithm\n",
    "\n",
    "w, log_likelihood_values = Logistic_Regresion_Gradient_Ascent(X_test, y_test, learning_rate, num_iters)\n",
    "print(w)\n",
    "\n",
    "getAccuracy(w)"
   ]
  },
  {
   "cell_type": "code",
   "execution_count": 25,
   "metadata": {},
   "outputs": [
    {
     "name": "stdout",
     "output_type": "stream",
     "text": [
      "[ 0.06613822  0.03263035  0.07460287  0.05848022 -0.00183826  0.08630678\n",
      "  0.06485879  0.06735181  0.00155736  0.03378525  0.02582668  0.08142346\n",
      "  0.05313392  0.07102354  0.03308925  0.01147212  0.04420668 -0.00486974\n",
      "  0.07151193  0.05191562  0.06455795  0.02420195  0.08581978  0.07806243\n",
      "  0.06658931  0.00821543  0.03542395 -0.00686719  0.00418199  0.05705859\n",
      "  0.06323018]\n",
      "TP:  15\n",
      "TN:  2\n",
      "FP:  52\n",
      "FN:  74\n",
      "TPR:  0.16853932584269662\n",
      "FPR:  0.9629629629629629\n"
     ]
    }
   ],
   "source": [
    "learning_rate = 0.0001\n",
    "num_iters = 100 # The number of iterations to run the gradient ascent algorithm\n",
    "\n",
    "w, log_likelihood_values = Logistic_Regresion_Gradient_Ascent(X_test, y_test, learning_rate, num_iters)\n",
    "print(w)\n",
    "\n",
    "getAccuracy(w)"
   ]
  },
  {
   "cell_type": "code",
   "execution_count": 28,
   "metadata": {},
   "outputs": [
    {
     "name": "stdout",
     "output_type": "stream",
     "text": [
      "[-3.74799307 -3.78166708 -3.73962962 -3.75559775 -3.81574666 -3.72743366\n",
      " -3.74912063 -3.74643784 -3.8120566  -3.77976103 -3.7878741  -3.73239453\n",
      " -3.76063603 -3.74281966 -3.78070814 -3.80223929 -3.76984299 -3.81892203\n",
      " -3.74258952 -3.76215879 -3.74972798 -3.790131   -3.72831466 -3.73598866\n",
      " -3.74726835 -3.80545725 -3.7784496  -3.82059575 -3.80945906 -3.75646309\n",
      " -3.75021163]\n",
      "TP:  80\n",
      "TN:  52\n",
      "FP:  2\n",
      "FN:  9\n",
      "TPR:  0.898876404494382\n",
      "FPR:  0.037037037037037035\n"
     ]
    }
   ],
   "source": [
    "learning_rate = 0.001\n",
    "num_iters = 10000 # The number of iterations to run the gradient ascent algorithm\n",
    "\n",
    "w, log_likelihood_values = Logistic_Regresion_Gradient_Ascent(X_test, y_test, learning_rate, num_iters)\n",
    "print(w)\n",
    "\n",
    "getAccuracy(w)"
   ]
  },
  {
   "cell_type": "code",
   "execution_count": null,
   "metadata": {},
   "outputs": [],
   "source": []
  }
 ],
 "metadata": {
  "kernelspec": {
   "display_name": "Python 3",
   "language": "python",
   "name": "python3"
  },
  "language_info": {
   "codemirror_mode": {
    "name": "ipython",
    "version": 3
   },
   "file_extension": ".py",
   "mimetype": "text/x-python",
   "name": "python",
   "nbconvert_exporter": "python",
   "pygments_lexer": "ipython3",
   "version": "3.8.5"
  }
 },
 "nbformat": 4,
 "nbformat_minor": 2
}
