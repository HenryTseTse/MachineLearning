{
 "cells": [
  {
   "cell_type": "markdown",
   "metadata": {},
   "source": [
    "# Programming Assignment 6 (optional) - Multiclass classification with Neural Nets and Logistic Regression\n",
    "In this assignment, you will experiment with the widely used MNIST dataset.\n",
    "The training data consists of greyscale images of handwritten digits, with one digit per image.\n",
    "The problem is to properly identify the handwritten digit. This is a classification problem with\n",
    "K=10 classes, corresponding to the digits 0,...,9."
   ]
  },
  {
   "cell_type": "markdown",
   "metadata": {},
   "source": [
    "## Step 1\n",
    "Let's begin by using a modified version of a program that applies multiclass logistic regression to the MNIST dataset, with softmax output.\n",
    "The original program is available at https://scikit-learn.org/stable/auto_examples/linear_model/plot_sparse_logistic_regression_mnist.html\n",
    "\n",
    "The program does not use Stochastic Gradient Descent (or ascent), but another optimization method (saga)\n",
    "that runs faster.  Optimization is easier for logistic regression than for neural nets\n",
    "because the error function is convex. Stochastic Gradient Descent is generally not used\n",
    "in logistic regression code.\n",
    "\n",
    "### Import the necessary libraries and the dataset\n",
    "\n"
   ]
  },
  {
   "cell_type": "code",
   "execution_count": 24,
   "metadata": {},
   "outputs": [
    {
     "name": "stdout",
     "output_type": "stream",
     "text": [
      "Automatically created module for IPython interactive environment\n"
     ]
    }
   ],
   "source": [
    "import time\n",
    "import matplotlib.pyplot as plt\n",
    "import numpy as np\n",
    "\n",
    "from sklearn.datasets import fetch_openml\n",
    "from sklearn.linear_model import LogisticRegression\n",
    "from sklearn.model_selection import train_test_split\n",
    "from sklearn.preprocessing import StandardScaler\n",
    "from sklearn.utils import check_random_state\n",
    "\n",
    "print(__doc__)\n",
    "\n",
    "# Author: Arthur Mensch <arthur.mensch@m4x.org>\n",
    "# License: BSD 3 clause\n",
    "\n",
    "# Modified May 2021 by: Lisa Hellerstein <lisa.hellerstein@nyu.edu>\n",
    "\n",
    "\n",
    "# Reduce number of samples for faster convergence\n",
    "train_samples = 5000\n",
    "\n",
    "# Load data from https://www.openml.org/d/554\n",
    "X, y = fetch_openml('mnist_784', version=1, return_X_y=True, as_frame=False)\n",
    "\n",
    "# set random number generator seed to 0 so everyone gets same permutation\n",
    "random_state = check_random_state(0)\n",
    "\n",
    "permutation = random_state.permutation(X.shape[0])\n",
    "X = X[permutation]\n",
    "y = y[permutation]\n",
    "X = X.reshape((X.shape[0], -1))\n",
    "\n",
    "# set random state to 0 so everyone gets same train-test split\n",
    "X_train, X_test, y_train, y_test = train_test_split(\n",
    "    X, y, train_size=train_samples, random_state = 0, test_size=5000)\n"
   ]
  },
  {
   "cell_type": "code",
   "execution_count": 25,
   "metadata": {},
   "outputs": [
    {
     "name": "stdout",
     "output_type": "stream",
     "text": [
      "Shape of X_train:  (5000, 784)\n",
      "Shape of X_test:  (5000,)\n"
     ]
    }
   ],
   "source": [
    "# TODO: 1. Print the shape of X_train and y_train\n",
    "print('Shape of X_train: ', X_train.shape)\n",
    "print('Shape of X_test: ', y_train.shape)"
   ]
  },
  {
   "cell_type": "markdown",
   "metadata": {},
   "source": [
    "### Display some example images\n",
    "You may need to wait a bit for them to appear."
   ]
  },
  {
   "cell_type": "code",
   "execution_count": 26,
   "metadata": {},
   "outputs": [
    {
     "data": {
      "image/png": "[encoded data removed]",
      "text/plain": [
       "<Figure size 720x360 with 8 Axes>"
      ]
     },
     "metadata": {
      "needs_background": "light"
     },
     "output_type": "display_data"
    }
   ],
   "source": [
    "\n",
    "def plt_fig(x):\n",
    "    plt.imshow(x.reshape((28, 28)), cmap=plt.cm.gray)\n",
    "    plt.xticks([])\n",
    "\n",
    "plt.figure(figsize=(10,5))\n",
    "\n",
    "nplt = 8\n",
    "for i in range(nplt):    \n",
    "    plt.subplot(1,nplt,i+1)\n",
    "    plt_fig(X_train[i])\n",
    "plt_fig(X_train[0])\n",
    "plt.show()\n"
   ]
  },
  {
   "cell_type": "markdown",
   "metadata": {},
   "source": [
    "### Train the logistic classifier.\n",
    "\n",
    "Note: When running the code below, you may have to wait a bit before you get\n",
    "any output."
   ]
  },
  {
   "cell_type": "code",
   "execution_count": 27,
   "metadata": {},
   "outputs": [
    {
     "name": "stdout",
     "output_type": "stream",
     "text": [
      "Test accuracy with multiclass logistic regression: 0.8742\n",
      "Example run in 1.505 s\n"
     ]
    }
   ],
   "source": [
    "\n",
    "# scale the features\n",
    "scaler = StandardScaler()\n",
    "X_train = scaler.fit_transform(X_train)\n",
    "X_test = scaler.transform(X_test)\n",
    "\n",
    "# record current time for runtime\n",
    "t0 = time.time()\n",
    "\n",
    "# Turn up tolerance for faster convergence\n",
    "# Change penalty to l1 for l1 regularization\n",
    "# Reduce C for more emphasis on regularization\n",
    "# (LH comment: C is the inverse of what we usually call the penalty parameter.  A low value means more regularizat)ion.\n",
    "clf = LogisticRegression(\n",
    "    C=50. / train_samples, penalty='l2', solver='saga', tol=0.1\n",
    ")\n",
    "clf.fit(X_train, y_train)\n",
    "score = clf.score(X_test, y_test)\n",
    "print(\"Test accuracy with multiclass logistic regression: %.4f\" % score)\n",
    "run_time = time.time() - t0\n",
    "print('Example run in %.3f s' % run_time)\n",
    "\n"
   ]
  },
  {
   "cell_type": "code",
   "execution_count": 28,
   "metadata": {},
   "outputs": [
    {
     "name": "stdout",
     "output_type": "stream",
     "text": [
      "Train Accuracy:  0.8826\n"
     ]
    }
   ],
   "source": [
    "# TODO Compute training accuracy\n",
    "train_accuracy = clf.score(X_train, y_train)\n",
    "print('Train Accuracy: ', train_accuracy)"
   ]
  },
  {
   "cell_type": "markdown",
   "metadata": {},
   "source": [
    "### Show the predictions for the first 8 images in the training set, displayed above"
   ]
  },
  {
   "cell_type": "code",
   "execution_count": 29,
   "metadata": {},
   "outputs": [
    {
     "data": {
      "text/plain": [
       "array(['9', '6', '5', '4', '0', '8', '1', '1'], dtype=object)"
      ]
     },
     "execution_count": 29,
     "metadata": {},
     "output_type": "execute_result"
    }
   ],
   "source": [
    "\n",
    "clf.predict(X_train[0:8,:])"
   ]
  },
  {
   "cell_type": "markdown",
   "metadata": {},
   "source": [
    "### Show the predicted probabilities for each of the classes "
   ]
  },
  {
   "cell_type": "code",
   "execution_count": 30,
   "metadata": {},
   "outputs": [
    {
     "name": "stdout",
     "output_type": "stream",
     "text": [
      "Predicted probabilities will be printed in the following order:\n",
      "['0' '1' '2' '3' '4' '5' '6' '7' '8' '9']\n",
      "Predicted probabiities for first image in X_train\n",
      "[[0.00297152 0.01011242 0.02003385 0.00571513 0.05548558 0.00192282\n",
      "  0.0054188  0.17620742 0.02810616 0.69402631]]\n"
     ]
    }
   ],
   "source": [
    "print('Predicted probabilities will be printed in the following order:')\n",
    "print(clf.classes_)\n",
    "print('Predicted probabiities for first image in X_train')\n",
    "print(clf.predict_proba(X_train[0:1,:]))"
   ]
  },
  {
   "cell_type": "code",
   "execution_count": 32,
   "metadata": {},
   "outputs": [
    {
     "data": {
      "text/plain": [
       "<function matplotlib.pyplot.show(close=None, block=None)>"
      ]
     },
     "execution_count": 32,
     "metadata": {},
     "output_type": "execute_result"
    },
    {
     "data": {
      "image/png": "[encoded data removed]",
      "text/plain": [
       "<Figure size 432x288 with 1 Axes>"
      ]
     },
     "metadata": {
      "needs_background": "light"
     },
     "output_type": "display_data"
    }
   ],
   "source": [
    "#first image in training set\n",
    "plt_fig(X_train[0])\n",
    "plt.show"
   ]
  },
  {
   "cell_type": "markdown",
   "metadata": {},
   "source": [
    "### Experiment to find answers to the following question:\n",
    "\n",
    "Ordinarily, it's important to scale the features for logistic regression and neural nets.\n",
    "But the features in the MNIST dataset are all pixel values, so they aren't that different from each other.\n",
    "What happens if you don't scale the features in the code above?  Does it affect test accuracy or running time?\n"
   ]
  },
  {
   "cell_type": "markdown",
   "metadata": {},
   "source": [
    "### Display a visualization of the learned coefficients\n",
    "The program also includes a visualization of the learned coefficients. "
   ]
  },
  {
   "cell_type": "code",
   "execution_count": 13,
   "metadata": {},
   "outputs": [
    {
     "data": {
      "image/png": "[encoded data removed]",
      "text/plain": [
       "<Figure size 720x360 with 10 Axes>"
      ]
     },
     "metadata": {},
     "output_type": "display_data"
    }
   ],
   "source": [
    "coef = clf.coef_.copy()\n",
    "plt.figure(figsize=(10, 5))\n",
    "scale = np.abs(coef).max()\n",
    "for i in range(10):\n",
    "    l2_plot = plt.subplot(2, 5, i + 1)\n",
    "    l2_plot.imshow(coef[i].reshape(28, 28), interpolation='nearest',\n",
    "                   cmap=plt.cm.RdBu, vmin=-scale, vmax=scale)\n",
    "    l2_plot.set_xticks(())\n",
    "    l2_plot.set_yticks(())\n",
    "    l2_plot.set_xlabel('Class %i' % i)\n",
    "plt.suptitle('Classification vector for...')\n",
    "\n",
    "plt.show()\n",
    "\n"
   ]
  },
  {
   "cell_type": "markdown",
   "metadata": {},
   "source": [
    "## Step 2\n",
    "Now let's try a neural net classifier with softmax output and no regularization.\n",
    "Note: Scikit-learn uses alpha to denote the regularization penalty parameter, and eta to denote the\n",
    "learning rate. So setting alpha=0 in the paramters to MLPClassifier would mean no regularization."
   ]
  },
  {
   "cell_type": "code",
   "execution_count": 53,
   "metadata": {},
   "outputs": [
    {
     "name": "stdout",
     "output_type": "stream",
     "text": [
      "Test score: 0.9254\n",
      "Example run in 33.114 s\n",
      "Training Score:  1.0\n"
     ]
    }
   ],
   "source": [
    "\n",
    "from sklearn.neural_network import MLPClassifier\n",
    "\n",
    "t0 = time.time()\n",
    "\n",
    "# set alpha=0 in the parameter list for MLPClassifier to remove regularization\n",
    "clfnn = MLPClassifier(solver='sgd', random_state=1, max_iter=1000,hidden_layer_sizes=[200, 50])\n",
    "clfnn.fit(X_train, y_train)\n",
    "score = clfnn.score(X_test, y_test)\n",
    "\n",
    "run_time = time.time() - t0\n",
    "print(\"Test score: %.4f\" % score)\n",
    "print('Example run in %.3f s' % run_time)\n",
    "\n",
    "training_score = clfnn.score(X_train, y_train)\n",
    "print(\"Training Score: \", training_score)"
   ]
  },
  {
   "cell_type": "markdown",
   "metadata": {},
   "source": [
    "## Step 3\n",
    "Experiment with the neural net to see the effect of changing the number of hidden layers, number of nodes per layer, \n",
    "and other hyperparameters.   Try to increase test accuracy.  "
   ]
  },
  {
   "cell_type": "code",
   "execution_count": 61,
   "metadata": {},
   "outputs": [
    {
     "name": "stdout",
     "output_type": "stream",
     "text": [
      "Test score: 0.8824\n",
      "Example run in 17.993 s\n",
      "Training Score:  0.9938\n"
     ]
    }
   ],
   "source": [
    "# TODO Code for additional experiments\n",
    "from sklearn.neural_network import MLPClassifier\n",
    "\n",
    "t0 = time.time()\n",
    "\n",
    "# set alpha=0 in the parameter list for MLPClassifier to remove regularization\n",
    "clfnn = MLPClassifier(solver='sgd', random_state=1, max_iter=1000,hidden_layer_sizes=[10, 10])\n",
    "clfnn.fit(X_train, y_train)\n",
    "score = clfnn.score(X_test, y_test)\n",
    "\n",
    "run_time = time.time() - t0\n",
    "print(\"Test score: %.4f\" % score)\n",
    "print('Example run in %.3f s' % run_time)\n",
    "\n",
    "training_score = clfnn.score(X_train, y_train)\n",
    "print(\"Training Score: \", training_score)"
   ]
  },
  {
   "cell_type": "code",
   "execution_count": 54,
   "metadata": {},
   "outputs": [
    {
     "name": "stderr",
     "output_type": "stream",
     "text": [
      "/Users/marcus/opt/anaconda3/lib/python3.8/site-packages/sklearn/neural_network/_multilayer_perceptron.py:582: ConvergenceWarning: Stochastic Optimizer: Maximum iterations (1000) reached and the optimization hasn't converged yet.\n",
      "  warnings.warn(\n"
     ]
    },
    {
     "name": "stdout",
     "output_type": "stream",
     "text": [
      "For  5  number of nodes\n",
      "Test score: 0.8276\n",
      "Example run in 21.408 s\n",
      "Training Score:  0.9566\n",
      "For  10  number of nodes\n",
      "Test score: 0.8916\n",
      "Example run in 17.303 s\n",
      "Training Score:  0.989\n",
      "For  20  number of nodes\n",
      "Test score: 0.9116\n",
      "Example run in 16.217 s\n",
      "Training Score:  0.9974\n",
      "For  50  number of nodes\n",
      "Test score: 0.9192\n",
      "Example run in 18.537 s\n",
      "Training Score:  0.9984\n",
      "For  100  number of nodes\n",
      "Test score: 0.9170\n",
      "Example run in 25.377 s\n",
      "Training Score:  0.9988\n",
      "For  200  number of nodes\n",
      "Test score: 0.9286\n",
      "Example run in 37.825 s\n",
      "Training Score:  0.9992\n"
     ]
    }
   ],
   "source": [
    "from sklearn.neural_network import MLPClassifier\n",
    "\n",
    "for i in [5,10,20,50,100,200]:\n",
    "\n",
    "    t0 = time.time()\n",
    "\n",
    "    # set alpha=0 in the parameter list for MLPClassifier to remove regularization\n",
    "    clfnn = MLPClassifier(solver='sgd', random_state=1, max_iter=1000,hidden_layer_sizes=[i])\n",
    "    clfnn.fit(X_train, y_train)\n",
    "    score = clfnn.score(X_test, y_test)\n",
    "\n",
    "    run_time = time.time() - t0\n",
    "    print('For ',i,' number of nodes')\n",
    "    print(\"Test score: %.4f\" % score)\n",
    "    print('Example run in %.3f s' % run_time)\n",
    "\n",
    "    training_score = clfnn.score(X_train, y_train)\n",
    "    print(\"Training Score: \", training_score)"
   ]
  },
  {
   "cell_type": "code",
   "execution_count": 75,
   "metadata": {},
   "outputs": [
    {
     "name": "stdout",
     "output_type": "stream",
     "text": [
      "Test score: 0.8890\n",
      "Example run in 17.307 s\n",
      "Training Score:  1.0\n"
     ]
    }
   ],
   "source": [
    "t0 = time.time()\n",
    "\n",
    "# set alpha=0 in the parameter list for MLPClassifier to remove regularization\n",
    "clfnn = MLPClassifier(solver='sgd', random_state=1, max_iter=1000,hidden_layer_sizes=[30,30,30,30,30])\n",
    "clfnn.fit(X_train, y_train)\n",
    "score = clfnn.score(X_test, y_test)\n",
    "\n",
    "run_time = time.time() - t0\n",
    "print(\"Test score: %.4f\" % score)\n",
    "print('Example run in %.3f s' % run_time)\n",
    "\n",
    "training_score = clfnn.score(X_train, y_train)\n",
    "print(\"Training Score: \", training_score)"
   ]
  },
  {
   "cell_type": "code",
   "execution_count": 67,
   "metadata": {},
   "outputs": [
    {
     "name": "stdout",
     "output_type": "stream",
     "text": [
      "Test score: 0.9174\n",
      "Example run in 17.272 s\n",
      "Training Score:  0.9998\n"
     ]
    }
   ],
   "source": [
    "t0 = time.time()\n",
    "\n",
    "# set alpha=0 in the parameter list for MLPClassifier to remove regularization\n",
    "clfnn = MLPClassifier(solver='sgd', random_state=1, max_iter=1000,hidden_layer_sizes=[30,30])\n",
    "clfnn.fit(X_train, y_train)\n",
    "score = clfnn.score(X_test, y_test)\n",
    "\n",
    "run_time = time.time() - t0\n",
    "print(\"Test score: %.4f\" % score)\n",
    "print('Example run in %.3f s' % run_time)\n",
    "\n",
    "training_score = clfnn.score(X_train, y_train)\n",
    "print(\"Training Score: \", training_score)"
   ]
  },
  {
   "cell_type": "code",
   "execution_count": 105,
   "metadata": {},
   "outputs": [
    {
     "name": "stdout",
     "output_type": "stream",
     "text": [
      "Test score: 0.9210\n",
      "Example run in 17.800 s\n",
      "Training Score:  0.9998\n"
     ]
    }
   ],
   "source": [
    "t0 = time.time()\n",
    "\n",
    "# set alpha=0 in the parameter list for MLPClassifier to remove regularization\n",
    "clfnn = MLPClassifier(alpha = .005,solver='sgd', random_state=1, max_iter=1000,hidden_layer_sizes=[50,30])\n",
    "clfnn.fit(X_train, y_train)\n",
    "score = clfnn.score(X_test, y_test)\n",
    "\n",
    "run_time = time.time() - t0\n",
    "print(\"Test score: %.4f\" % score)\n",
    "print('Example run in %.3f s' % run_time)\n",
    "\n",
    "training_score = clfnn.score(X_train, y_train)\n",
    "print(\"Training Score: \", training_score)"
   ]
  },
  {
   "cell_type": "code",
   "execution_count": 80,
   "metadata": {},
   "outputs": [
    {
     "name": "stdout",
     "output_type": "stream",
     "text": [
      "Test score: 0.9264\n",
      "Example run in 3.704 s\n",
      "Training Score:  1.0\n"
     ]
    }
   ],
   "source": [
    "t0 = time.time()\n",
    "\n",
    "# set alpha=0 in the parameter list for MLPClassifier to remove regularization\n",
    "clfnn = MLPClassifier(solver='adam', random_state=1, max_iter=1000,hidden_layer_sizes=[50,30])\n",
    "clfnn.fit(X_train, y_train)\n",
    "score = clfnn.score(X_test, y_test)\n",
    "\n",
    "run_time = time.time() - t0\n",
    "print(\"Test score: %.4f\" % score)\n",
    "print('Example run in %.3f s' % run_time)\n",
    "\n",
    "training_score = clfnn.score(X_train, y_train)\n",
    "print(\"Training Score: \", training_score)\n",
    "\n",
    "\n",
    "#adam speeds it up and increases test score"
   ]
  },
  {
   "cell_type": "code",
   "execution_count": 100,
   "metadata": {},
   "outputs": [
    {
     "name": "stdout",
     "output_type": "stream",
     "text": [
      "Test score: 0.9236\n",
      "Example run in 17.243 s\n",
      "Training Score:  0.9988\n"
     ]
    }
   ],
   "source": [
    "t0 = time.time()\n",
    "\n",
    "# set alpha=0 in the parameter list for MLPClassifier to remove regularization\n",
    "clfnn = MLPClassifier(solver='sgd', random_state=4, max_iter=1000,hidden_layer_sizes=[50,30])\n",
    "clfnn.fit(X_train, y_train)\n",
    "score = clfnn.score(X_test, y_test)\n",
    "\n",
    "run_time = time.time() - t0\n",
    "print(\"Test score: %.4f\" % score)\n",
    "print('Example run in %.3f s' % run_time)\n",
    "\n",
    "training_score = clfnn.score(X_train, y_train)\n",
    "print(\"Training Score: \", training_score)\n",
    "\n",
    "#logistic activation decreases score"
   ]
  },
  {
   "cell_type": "code",
   "execution_count": 84,
   "metadata": {},
   "outputs": [
    {
     "name": "stdout",
     "output_type": "stream",
     "text": [
      "Test score: 0.9232\n",
      "Example run in 1.061 s\n",
      "Training Score:  1.0\n"
     ]
    }
   ],
   "source": [
    "t0 = time.time()\n",
    "\n",
    "# set alpha=0 in the parameter list for MLPClassifier to remove regularization\n",
    "clfnn = MLPClassifier(solver='lbfgs', random_state=1, max_iter=1000,hidden_layer_sizes=[50,30])\n",
    "clfnn.fit(X_train, y_train)\n",
    "score = clfnn.score(X_test, y_test)\n",
    "\n",
    "run_time = time.time() - t0\n",
    "print(\"Test score: %.4f\" % score)\n",
    "print('Example run in %.3f s' % run_time)\n",
    "\n",
    "training_score = clfnn.score(X_train, y_train)\n",
    "print(\"Training Score: \", training_score)\n",
    "\n",
    "\n",
    "#adam speeds it up and increases test score"
   ]
  },
  {
   "cell_type": "code",
   "execution_count": 107,
   "metadata": {},
   "outputs": [
    {
     "name": "stdout",
     "output_type": "stream",
     "text": [
      "Test score: 0.9282\n",
      "Example run in 3.804 s\n",
      "Training Score:  1.0\n"
     ]
    }
   ],
   "source": [
    "t0 = time.time()\n",
    "\n",
    "# set alpha=0 in the parameter list for MLPClassifier to remove regularization\n",
    "clfnn = MLPClassifier(alpha = .005,solver='adam', random_state=1, max_iter=1000,hidden_layer_sizes=[50,30])\n",
    "clfnn.fit(X_train, y_train)\n",
    "score = clfnn.score(X_test, y_test)\n",
    "\n",
    "run_time = time.time() - t0\n",
    "print(\"Test score: %.4f\" % score)\n",
    "print('Example run in %.3f s' % run_time)\n",
    "\n",
    "training_score = clfnn.score(X_train, y_train)\n",
    "print(\"Training Score: \", training_score)"
   ]
  },
  {
   "cell_type": "code",
   "execution_count": null,
   "metadata": {},
   "outputs": [],
   "source": []
  }
 ],
 "metadata": {
  "kernelspec": {
   "display_name": "Python 3",
   "language": "python",
   "name": "python3"
  },
  "language_info": {
   "codemirror_mode": {
    "name": "ipython",
    "version": 3
   },
   "file_extension": ".py",
   "mimetype": "text/x-python",
   "name": "python",
   "nbconvert_exporter": "python",
   "pygments_lexer": "ipython3",
   "version": "3.8.5"
  }
 },
 "nbformat": 4,
 "nbformat_minor": 5
}
