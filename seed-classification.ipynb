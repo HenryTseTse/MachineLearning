{
 "cells": [
  {
   "cell_type": "markdown",
   "metadata": {},
   "source": [
    "# Seed classification with the bivariate Gaussian\n",
    "\n",
    "In this assigment, you will predict if a wheat kernel belongs to wheat variety A, B, or C.\n",
    "\n",
    "You will use a generative algorithm, modeling each class as a **bivariate Gaussian** with\n",
    "the same covariance matrix for all three classes."
   ]
  },
  {
   "cell_type": "markdown",
   "metadata": {},
   "source": [
    "## Step 0. Import statements\n",
    "\n",
    "The Python programming language, like most programming languages, is augmented by **modules**.  These modules contain functions and classes for specialized tasks needed in machine learning.\n",
    "\n",
    "Below, we will `import` three modules:\n",
    "* **pandas**\n",
    "* **numpy**\n",
    "* **matplotlib.pyplot**\n",
    "\n",
    "Note that we imported these modules using **aliases**"
   ]
  },
  {
   "cell_type": "code",
   "execution_count": 1,
   "metadata": {},
   "outputs": [],
   "source": [
    "# Standard libraries\n",
    "%matplotlib inline\n",
    "import pandas as pd\n",
    "import numpy as np # for better array operations\n",
    "import matplotlib.pyplot as plt # plotting utilities \n",
    "\n",
    "\n",
    "\n",
    "# Module computing the Gaussian density\n",
    "from scipy.stats import norm, multivariate_normal \n"
   ]
  },
  {
   "cell_type": "markdown",
   "metadata": {},
   "source": [
    "## Step 1. Data preparation: loading, understanding and cleaning the dataset"
   ]
  },
  {
   "cell_type": "markdown",
   "metadata": {},
   "source": [
    "### Importing the dataset\n",
    "Make sure the file `SeedsDataset.csv` is in the same directory as this notebook.\n",
    "\n",
    "The dataset contains 210 examples, where each example is represented in one row with an ID number, 7 features, and a label (*A,B, or C*)."
   ]
  },
  {
   "cell_type": "code",
   "execution_count": 2,
   "metadata": {},
   "outputs": [
    {
     "data": {
      "text/html": [
       "<div>\n",
       "<style scoped>\n",
       "    .dataframe tbody tr th:only-of-type {\n",
       "        vertical-align: middle;\n",
       "    }\n",
       "\n",
       "    .dataframe tbody tr th {\n",
       "        vertical-align: top;\n",
       "    }\n",
       "\n",
       "    .dataframe thead th {\n",
       "        text-align: right;\n",
       "    }\n",
       "</style>\n",
       "<table border=\"1\" class=\"dataframe\">\n",
       "  <thead>\n",
       "    <tr style=\"text-align: right;\">\n",
       "      <th></th>\n",
       "      <th>ID</th>\n",
       "      <th>Area</th>\n",
       "      <th>Perim</th>\n",
       "      <th>Compact</th>\n",
       "      <th>klength</th>\n",
       "      <th>kwidth</th>\n",
       "      <th>asymm</th>\n",
       "      <th>groove</th>\n",
       "      <th>label</th>\n",
       "    </tr>\n",
       "  </thead>\n",
       "  <tbody>\n",
       "    <tr>\n",
       "      <th>0</th>\n",
       "      <td>0</td>\n",
       "      <td>15.26</td>\n",
       "      <td>14.84</td>\n",
       "      <td>0.8710</td>\n",
       "      <td>5.763</td>\n",
       "      <td>3.312</td>\n",
       "      <td>2.221</td>\n",
       "      <td>5.220</td>\n",
       "      <td>A</td>\n",
       "    </tr>\n",
       "    <tr>\n",
       "      <th>1</th>\n",
       "      <td>1</td>\n",
       "      <td>14.88</td>\n",
       "      <td>14.57</td>\n",
       "      <td>0.8811</td>\n",
       "      <td>5.554</td>\n",
       "      <td>3.333</td>\n",
       "      <td>1.018</td>\n",
       "      <td>4.956</td>\n",
       "      <td>A</td>\n",
       "    </tr>\n",
       "    <tr>\n",
       "      <th>2</th>\n",
       "      <td>2</td>\n",
       "      <td>14.29</td>\n",
       "      <td>14.09</td>\n",
       "      <td>0.9050</td>\n",
       "      <td>5.291</td>\n",
       "      <td>3.337</td>\n",
       "      <td>2.699</td>\n",
       "      <td>4.825</td>\n",
       "      <td>A</td>\n",
       "    </tr>\n",
       "    <tr>\n",
       "      <th>3</th>\n",
       "      <td>3</td>\n",
       "      <td>13.84</td>\n",
       "      <td>13.94</td>\n",
       "      <td>0.8955</td>\n",
       "      <td>5.324</td>\n",
       "      <td>3.379</td>\n",
       "      <td>2.259</td>\n",
       "      <td>4.805</td>\n",
       "      <td>A</td>\n",
       "    </tr>\n",
       "    <tr>\n",
       "      <th>4</th>\n",
       "      <td>4</td>\n",
       "      <td>16.14</td>\n",
       "      <td>14.99</td>\n",
       "      <td>0.9034</td>\n",
       "      <td>5.658</td>\n",
       "      <td>3.562</td>\n",
       "      <td>1.355</td>\n",
       "      <td>5.175</td>\n",
       "      <td>A</td>\n",
       "    </tr>\n",
       "  </tbody>\n",
       "</table>\n",
       "</div>"
      ],
      "text/plain": [
       "   ID   Area  Perim  Compact  klength  kwidth  asymm  groove label\n",
       "0   0  15.26  14.84   0.8710    5.763   3.312  2.221   5.220     A\n",
       "1   1  14.88  14.57   0.8811    5.554   3.333  1.018   4.956     A\n",
       "2   2  14.29  14.09   0.9050    5.291   3.337  2.699   4.825     A\n",
       "3   3  13.84  13.94   0.8955    5.324   3.379  2.259   4.805     A\n",
       "4   4  16.14  14.99   0.9034    5.658   3.562  1.355   5.175     A"
      ]
     },
     "execution_count": 2,
     "metadata": {},
     "output_type": "execute_result"
    }
   ],
   "source": [
    "# Loading the data set using Pandas in a dataframe \n",
    "\n",
    "df = pd.read_csv('SeedsDataset.csv',header=0)\n",
    "\n",
    "\n",
    "#Lets check that everything worked before continuing\n",
    "df.head()\n"
   ]
  },
  {
   "cell_type": "markdown",
   "metadata": {},
   "source": [
    "### Data preprocesssing\n",
    "We will change the labels 'A', 'B', and 'C' to 0, 1, and 2 respectively.\n",
    "In our code it is easier to work with numerical values instead of strings.\n"
   ]
  },
  {
   "cell_type": "code",
   "execution_count": 3,
   "metadata": {
    "scrolled": true
   },
   "outputs": [
    {
     "data": {
      "text/html": [
       "<div>\n",
       "<style scoped>\n",
       "    .dataframe tbody tr th:only-of-type {\n",
       "        vertical-align: middle;\n",
       "    }\n",
       "\n",
       "    .dataframe tbody tr th {\n",
       "        vertical-align: top;\n",
       "    }\n",
       "\n",
       "    .dataframe thead th {\n",
       "        text-align: right;\n",
       "    }\n",
       "</style>\n",
       "<table border=\"1\" class=\"dataframe\">\n",
       "  <thead>\n",
       "    <tr style=\"text-align: right;\">\n",
       "      <th></th>\n",
       "      <th>ID</th>\n",
       "      <th>Area</th>\n",
       "      <th>Perim</th>\n",
       "      <th>Compact</th>\n",
       "      <th>klength</th>\n",
       "      <th>kwidth</th>\n",
       "      <th>asymm</th>\n",
       "      <th>groove</th>\n",
       "      <th>label</th>\n",
       "    </tr>\n",
       "  </thead>\n",
       "  <tbody>\n",
       "    <tr>\n",
       "      <th>0</th>\n",
       "      <td>0</td>\n",
       "      <td>15.26</td>\n",
       "      <td>14.84</td>\n",
       "      <td>0.8710</td>\n",
       "      <td>5.763</td>\n",
       "      <td>3.312</td>\n",
       "      <td>2.221</td>\n",
       "      <td>5.220</td>\n",
       "      <td>0</td>\n",
       "    </tr>\n",
       "    <tr>\n",
       "      <th>1</th>\n",
       "      <td>1</td>\n",
       "      <td>14.88</td>\n",
       "      <td>14.57</td>\n",
       "      <td>0.8811</td>\n",
       "      <td>5.554</td>\n",
       "      <td>3.333</td>\n",
       "      <td>1.018</td>\n",
       "      <td>4.956</td>\n",
       "      <td>0</td>\n",
       "    </tr>\n",
       "    <tr>\n",
       "      <th>2</th>\n",
       "      <td>2</td>\n",
       "      <td>14.29</td>\n",
       "      <td>14.09</td>\n",
       "      <td>0.9050</td>\n",
       "      <td>5.291</td>\n",
       "      <td>3.337</td>\n",
       "      <td>2.699</td>\n",
       "      <td>4.825</td>\n",
       "      <td>0</td>\n",
       "    </tr>\n",
       "    <tr>\n",
       "      <th>3</th>\n",
       "      <td>3</td>\n",
       "      <td>13.84</td>\n",
       "      <td>13.94</td>\n",
       "      <td>0.8955</td>\n",
       "      <td>5.324</td>\n",
       "      <td>3.379</td>\n",
       "      <td>2.259</td>\n",
       "      <td>4.805</td>\n",
       "      <td>0</td>\n",
       "    </tr>\n",
       "    <tr>\n",
       "      <th>4</th>\n",
       "      <td>4</td>\n",
       "      <td>16.14</td>\n",
       "      <td>14.99</td>\n",
       "      <td>0.9034</td>\n",
       "      <td>5.658</td>\n",
       "      <td>3.562</td>\n",
       "      <td>1.355</td>\n",
       "      <td>5.175</td>\n",
       "      <td>0</td>\n",
       "    </tr>\n",
       "  </tbody>\n",
       "</table>\n",
       "</div>"
      ],
      "text/plain": [
       "   ID   Area  Perim  Compact  klength  kwidth  asymm  groove  label\n",
       "0   0  15.26  14.84   0.8710    5.763   3.312  2.221   5.220      0\n",
       "1   1  14.88  14.57   0.8811    5.554   3.333  1.018   4.956      0\n",
       "2   2  14.29  14.09   0.9050    5.291   3.337  2.699   4.825      0\n",
       "3   3  13.84  13.94   0.8955    5.324   3.379  2.259   4.805      0\n",
       "4   4  16.14  14.99   0.9034    5.658   3.562  1.355   5.175      0"
      ]
     },
     "execution_count": 3,
     "metadata": {},
     "output_type": "execute_result"
    }
   ],
   "source": [
    "# It is easier to work with the data if the labels are integers\n",
    "# Changing the 'label' column values, map 'A':0, 'B':1, 'C':2\n",
    "df['label']=df.label.map({'A':0, 'B':1, 'C':2})\n",
    "\n",
    "#Lets check that everything worked before continuing on\n",
    "df.head()"
   ]
  },
  {
   "cell_type": "code",
   "execution_count": 4,
   "metadata": {
    "scrolled": true
   },
   "outputs": [
    {
     "data": {
      "text/html": [
       "<div>\n",
       "<style scoped>\n",
       "    .dataframe tbody tr th:only-of-type {\n",
       "        vertical-align: middle;\n",
       "    }\n",
       "\n",
       "    .dataframe tbody tr th {\n",
       "        vertical-align: top;\n",
       "    }\n",
       "\n",
       "    .dataframe thead th {\n",
       "        text-align: right;\n",
       "    }\n",
       "</style>\n",
       "<table border=\"1\" class=\"dataframe\">\n",
       "  <thead>\n",
       "    <tr style=\"text-align: right;\">\n",
       "      <th></th>\n",
       "      <th>Area</th>\n",
       "      <th>asymm</th>\n",
       "      <th>label</th>\n",
       "    </tr>\n",
       "  </thead>\n",
       "  <tbody>\n",
       "    <tr>\n",
       "      <th>0</th>\n",
       "      <td>15.26</td>\n",
       "      <td>2.221</td>\n",
       "      <td>0</td>\n",
       "    </tr>\n",
       "    <tr>\n",
       "      <th>1</th>\n",
       "      <td>14.88</td>\n",
       "      <td>1.018</td>\n",
       "      <td>0</td>\n",
       "    </tr>\n",
       "    <tr>\n",
       "      <th>2</th>\n",
       "      <td>14.29</td>\n",
       "      <td>2.699</td>\n",
       "      <td>0</td>\n",
       "    </tr>\n",
       "    <tr>\n",
       "      <th>3</th>\n",
       "      <td>13.84</td>\n",
       "      <td>2.259</td>\n",
       "      <td>0</td>\n",
       "    </tr>\n",
       "    <tr>\n",
       "      <th>4</th>\n",
       "      <td>16.14</td>\n",
       "      <td>1.355</td>\n",
       "      <td>0</td>\n",
       "    </tr>\n",
       "  </tbody>\n",
       "</table>\n",
       "</div>"
      ],
      "text/plain": [
       "    Area  asymm  label\n",
       "0  15.26  2.221      0\n",
       "1  14.88  1.018      0\n",
       "2  14.29  2.699      0\n",
       "3  13.84  2.259      0\n",
       "4  16.14  1.355      0"
      ]
     },
     "execution_count": 4,
     "metadata": {},
     "output_type": "execute_result"
    }
   ],
   "source": [
    "# We're going to classify with only two of the features, Area and asymm\n",
    "# So we'll keep only these features, and the label\n",
    "dfnew = df[['Area','asymm','label']]\n",
    "\n",
    "#Lets check the new data frame\n",
    "dfnew.head()"
   ]
  },
  {
   "cell_type": "markdown",
   "metadata": {},
   "source": [
    "Often we will do other data prepocessing, such as looking for missing values and scaling the data, but that is NOT needed for this assignment. "
   ]
  },
  {
   "cell_type": "code",
   "execution_count": 5,
   "metadata": {},
   "outputs": [],
   "source": [
    "# We will store the dataframe as a Numpy array\n",
    "data = dfnew.to_numpy() \n",
    "\n",
    "# Split the examples into a training set (trainx, trainy) and test set (testx, testy) \n",
    "\n",
    "########## TO DO ##########\n",
    "n =  data.shape[0] # the number of rows\n",
    "train_n = int(.8*n) # CHANGED .9 to .8 this test set is a bit small to really evaluate our hypothesis - what could we do to get a better estimate and still keep most of the data to estimate our parameters?\n",
    "np.random.seed(0) # Our code randomly chooses which examples will be the training data, but for grading purposes we want the random numbers used to seperate the data to be the same for everyone\n",
    "perm = np.random.permutation(n)\n",
    "\n",
    "trainx = data[perm[0:train_n],0:2] # selecting the training examples, without their labels\n",
    "trainy = data[perm[0:train_n],2]   # placing the labels of the training examples in column vector\n",
    "testx = data[perm[train_n:n], 0:2] # We won't look at the testx data until it is time to evauate our hypothesis.  This numpy array contains the set of test data for the assignment\n",
    "testy = data[perm[train_n:n],2]    # placing the labels of the test examples in column vector\n",
    "#########\n"
   ]
  },
  {
   "cell_type": "markdown",
   "metadata": {},
   "source": [
    "### Plotting the dataset\n",
    "Visualization can be helpful when exploring and getting to know a dataset."
   ]
  },
  {
   "cell_type": "code",
   "execution_count": 6,
   "metadata": {},
   "outputs": [
    {
     "data": {
      "text/plain": [
       "[<matplotlib.lines.Line2D at 0x7f7f09ce3c10>]"
      ]
     },
     "execution_count": 6,
     "metadata": {},
     "output_type": "execute_result"
    },
    {
     "data": {
      "image/png": "[encoded data removed]",
      "text/plain": [
       "<Figure size 432x288 with 1 Axes>"
      ]
     },
     "metadata": {
      "needs_background": "light"
     },
     "output_type": "display_data"
    }
   ],
   "source": [
    "# plotting the Type A as a green dot\n",
    "plt.plot(trainx[trainy==0,0], trainx[trainy==0,1], marker='o', ls='None', c='g')\n",
    "# plotting Type B as a red dot\n",
    "plt.plot(trainx[trainy==1,0], trainx[trainy==1,1], marker='o', ls='None', c='r')\n",
    "# plotting Type C as a blue dot\n",
    "plt.plot(trainx[trainy==2,0], trainx[trainy==2,1], marker='o', ls='None', c='b')"
   ]
  },
  {
   "cell_type": "markdown",
   "metadata": {},
   "source": [
    "## Step 2. Model training: implementing Gaussian Discriminant Analysis\n",
    "\n",
    "\n"
   ]
  },
  {
   "cell_type": "markdown",
   "metadata": {},
   "source": [
    "###  Sufficient statistics\n",
    "Since we have 3 classes, we need to estimate the parameters for 3 bivariate Gaussian distributions.  To reduce the number of parameters we need to estimate, we will assume the distributions have the same covariance matrix.  Thus we will estimate the covariance matrix based on the training data in all three classes.\n",
    "\n",
    "Just as if we were doing these calculations by hand, we break the process down into managable pieces"
   ]
  },
  {
   "cell_type": "markdown",
   "metadata": {},
   "source": [
    "We begin by defining a helper function that we can use to estimate the shared covariance matrix.  "
   ]
  },
  {
   "cell_type": "code",
   "execution_count": 11,
   "metadata": {},
   "outputs": [
    {
     "name": "stdout",
     "output_type": "stream",
     "text": [
      "mu_0 = [14.237833333333334, 2.617086666666667]\n",
      "mu_1 = [18.201929824561404, 3.615964912280701]\n",
      "mu_2 = [11.82411764705882, 4.875960784313725]\n",
      "Shared covariance: [[ 1.3504497  -0.05885309]\n",
      " [-0.05885309  1.4810106 ]]\n"
     ]
    },
    {
     "data": {
      "text/plain": [
       "array([[ 1.3504497 , -0.05885309],\n",
       "       [-0.05885309,  1.4810106 ]], dtype=float32)"
      ]
     },
     "execution_count": 11,
     "metadata": {},
     "output_type": "execute_result"
    }
   ],
   "source": [
    "# Input: a design matrix (rows correspond to examples, columns to features)\n",
    "# Output: the estimated covariance matrix for the features\n",
    "\n",
    "mu_0 = mean(trainx, 0)\n",
    "mu_1 = mean(trainx, 1)\n",
    "mu_2 = mean(trainx, 2)\n",
    "\n",
    "def estimate_cov(x):\n",
    "########## TO DO ##########\n",
    "\n",
    "    def sample_cov(x, classNum, mu):\n",
    "        \n",
    "        total = 0\n",
    "        size = x[trainy == classNum, 0].size\n",
    "        \n",
    "        for data in x[trainy == classNum, 0]:\n",
    "            total = total + (data - mu[0])**2\n",
    "        sigma_00 = total / size\n",
    "        \n",
    "        total = 0\n",
    "        for data in x[trainy == classNum, 1]:\n",
    "            total = total + (data - mu[1])**2\n",
    "        sigma_11 = total / size\n",
    "        \n",
    "        total = 0\n",
    "        for data in x[trainy == classNum, 0:2]:\n",
    "            total = total + ((data[0] - mu[0]) * (data[1] - mu[1]))\n",
    "        sigma_01 = total / size\n",
    "        \n",
    "        return [[sigma_00, sigma_01], [sigma_01, sigma_11]]\n",
    "    \n",
    "    cov0Frac = x[trainy == 0].size/x.size\n",
    "    cov1Frac = x[trainy == 1].size/x.size\n",
    "    cov2Frac = x[trainy == 2].size/x.size\n",
    "    \n",
    "    \n",
    "    print(f'mu_0 = {mu_0}\\nmu_1 = {mu_1}\\nmu_2 = {mu_2}')\n",
    "    \n",
    "    cov_0 = sample_cov(x, 0, mu_0)\n",
    "    cov_1 = sample_cov(x, 1, mu_1)\n",
    "    cov_2 = sample_cov(x, 2, mu_2)\n",
    "    \n",
    "    arr0 = np.asarray(cov_0,dtype = np.float32)\n",
    "    arr1 = np.asarray(cov_1,dtype = np.float32)\n",
    "    arr2 = np.asarray(cov_2,dtype = np.float32)\n",
    "    \n",
    "    Sigma = ((cov0Frac*arr0) + (cov1Frac*arr1) + (cov2Frac*arr2))\n",
    "    \n",
    "    print(f'Shared covariance: {Sigma}')\n",
    "\n",
    "    #could use this for scalar multiplication on array: newarr = np.asarray(mu_0,dtype = np.float32)\n",
    "    \n",
    "##########\n",
    "    return Sigma\n",
    "\n",
    "estimate_cov(trainx)"
   ]
  },
  {
   "cell_type": "markdown",
   "metadata": {},
   "source": [
    "\n",
    "Before moving on, test your code to make sure it works correctly.  \n",
    "\n",
    "\n"
   ]
  },
  {
   "cell_type": "markdown",
   "metadata": {},
   "source": [
    "### Write the rest of your code here"
   ]
  },
  {
   "cell_type": "code",
   "execution_count": 9,
   "metadata": {},
   "outputs": [
    {
     "name": "stdout",
     "output_type": "stream",
     "text": [
      "18.72 5.324 13.37 4.67 10.83 5.182 12.76 2.828 14.28 6.685 10.82 4.853 15.38 1.999 13.07 5.304 21.18 5.78 17.63 4.076 18.98 3.691 16.2 2.823 14.11 2.688 16.44 1.969 19.18 3.357 12.8 4.873 14.01 2.217 11.87 3.597 19.15 3.084 14.99 2.958 11.27 4.309\n"
     ]
    },
    {
     "data": {
      "text/plain": [
       "[[18.72, 5.324],\n",
       " [13.37, 4.67],\n",
       " [10.83, 5.182],\n",
       " [12.76, 2.828],\n",
       " [14.28, 6.685],\n",
       " [10.82, 4.853],\n",
       " [15.38, 1.999],\n",
       " [13.07, 5.304],\n",
       " [21.18, 5.78],\n",
       " [17.63, 4.076],\n",
       " [18.98, 3.691],\n",
       " [16.2, 2.823],\n",
       " [14.11, 2.688],\n",
       " [16.44, 1.969],\n",
       " [19.18, 3.357],\n",
       " [12.8, 4.873],\n",
       " [14.01, 2.217],\n",
       " [11.87, 3.597],\n",
       " [19.15, 3.084],\n",
       " [14.99, 2.958],\n",
       " [11.27, 4.309]]"
      ]
     },
     "execution_count": 9,
     "metadata": {},
     "output_type": "execute_result"
    }
   ],
   "source": [
    "predict = []\n",
    "\n",
    "read = list(map(float,input().split()))\n",
    "\n",
    "for i in range(0, len(read), 2):\n",
    "    predict.append([read[i],read[i+1]])\n",
    "    \n",
    "predict"
   ]
  },
  {
   "cell_type": "code",
   "execution_count": 12,
   "metadata": {},
   "outputs": [
    {
     "name": "stdout",
     "output_type": "stream",
     "text": [
      "mu_0 = [14.237833333333334, 2.617086666666667]\n",
      "mu_1 = [18.201929824561404, 3.615964912280701]\n",
      "mu_2 = [11.82411764705882, 4.875960784313725]\n",
      "Shared covariance: [[ 1.3504497  -0.05885309]\n",
      " [-0.05885309  1.4810106 ]]\n",
      "-10.286809876042678 -1.1122680840291213 -17.79593568103928\n",
      "-1.6521121039274722 -8.88495766605831 -0.8912945264994474\n",
      "-6.274503545191964 -20.64521405143017 -0.3892458532187201\n",
      "-0.8158756214003092 -11.320119991956364 -1.6867855471381137\n",
      "-5.6021059992927915 -8.53547617477072 -3.474705458487023\n",
      "-5.798042878135414 -20.45917775760249 -0.3748079370717931\n",
      "-0.5922323767940735 -3.972233056492411 -7.187271712348263\n",
      "-2.8549218680193227 -10.476314640816616 -0.6533856100245274\n",
      "-21.90505616349514 -5.063125301407874 -32.99060717977704\n",
      "-5.1334460734456275 -0.18513618097906442 -12.581555154142809\n",
      "-8.88076585392168 -0.22815896681277684 -19.21692067072349\n",
      "-1.4542097386651307 -1.7458691608034052 -8.262474054680863\n",
      "-0.007494295515958364 -6.61328467632125 -3.4095532231690706\n",
      "-1.8986190261233298 -2.15427188749824 -10.36464925564087\n",
      "-9.3519193899959 -0.3700146880224974 -20.519390699564184\n",
      "-2.392263886236261 -11.157094643737867 -0.3531329339518588\n",
      "-0.07607339906269198 -7.352113352113202 -3.9918623105888273\n",
      "-2.335789304513328 -14.87385308424202 -0.5522470718647879\n",
      "-9.090667247189256 -0.41420670772934354 -20.604107755563252\n",
      "-0.25669647153571906 -4.034982553914266 -4.782435482480778\n",
      "-4.086893667146043 -17.842669375474127 -0.23185115176910137\n"
     ]
    },
    {
     "data": {
      "text/html": [
       "<div>\n",
       "<style scoped>\n",
       "    .dataframe tbody tr th:only-of-type {\n",
       "        vertical-align: middle;\n",
       "    }\n",
       "\n",
       "    .dataframe tbody tr th {\n",
       "        vertical-align: top;\n",
       "    }\n",
       "\n",
       "    .dataframe thead th {\n",
       "        text-align: right;\n",
       "    }\n",
       "</style>\n",
       "<table border=\"1\" class=\"dataframe\">\n",
       "  <thead>\n",
       "    <tr style=\"text-align: right;\">\n",
       "      <th></th>\n",
       "      <th>area</th>\n",
       "      <th>asymm</th>\n",
       "      <th>Prediction</th>\n",
       "    </tr>\n",
       "  </thead>\n",
       "  <tbody>\n",
       "    <tr>\n",
       "      <th>0</th>\n",
       "      <td>18.72</td>\n",
       "      <td>5.324</td>\n",
       "      <td>1</td>\n",
       "    </tr>\n",
       "    <tr>\n",
       "      <th>1</th>\n",
       "      <td>13.37</td>\n",
       "      <td>4.670</td>\n",
       "      <td>2</td>\n",
       "    </tr>\n",
       "    <tr>\n",
       "      <th>2</th>\n",
       "      <td>10.83</td>\n",
       "      <td>5.182</td>\n",
       "      <td>2</td>\n",
       "    </tr>\n",
       "    <tr>\n",
       "      <th>3</th>\n",
       "      <td>12.76</td>\n",
       "      <td>2.828</td>\n",
       "      <td>0</td>\n",
       "    </tr>\n",
       "    <tr>\n",
       "      <th>4</th>\n",
       "      <td>14.28</td>\n",
       "      <td>6.685</td>\n",
       "      <td>2</td>\n",
       "    </tr>\n",
       "    <tr>\n",
       "      <th>5</th>\n",
       "      <td>10.82</td>\n",
       "      <td>4.853</td>\n",
       "      <td>2</td>\n",
       "    </tr>\n",
       "    <tr>\n",
       "      <th>6</th>\n",
       "      <td>15.38</td>\n",
       "      <td>1.999</td>\n",
       "      <td>0</td>\n",
       "    </tr>\n",
       "    <tr>\n",
       "      <th>7</th>\n",
       "      <td>13.07</td>\n",
       "      <td>5.304</td>\n",
       "      <td>2</td>\n",
       "    </tr>\n",
       "    <tr>\n",
       "      <th>8</th>\n",
       "      <td>21.18</td>\n",
       "      <td>5.780</td>\n",
       "      <td>1</td>\n",
       "    </tr>\n",
       "    <tr>\n",
       "      <th>9</th>\n",
       "      <td>17.63</td>\n",
       "      <td>4.076</td>\n",
       "      <td>1</td>\n",
       "    </tr>\n",
       "    <tr>\n",
       "      <th>10</th>\n",
       "      <td>18.98</td>\n",
       "      <td>3.691</td>\n",
       "      <td>1</td>\n",
       "    </tr>\n",
       "    <tr>\n",
       "      <th>11</th>\n",
       "      <td>16.20</td>\n",
       "      <td>2.823</td>\n",
       "      <td>0</td>\n",
       "    </tr>\n",
       "    <tr>\n",
       "      <th>12</th>\n",
       "      <td>14.11</td>\n",
       "      <td>2.688</td>\n",
       "      <td>0</td>\n",
       "    </tr>\n",
       "    <tr>\n",
       "      <th>13</th>\n",
       "      <td>16.44</td>\n",
       "      <td>1.969</td>\n",
       "      <td>0</td>\n",
       "    </tr>\n",
       "    <tr>\n",
       "      <th>14</th>\n",
       "      <td>19.18</td>\n",
       "      <td>3.357</td>\n",
       "      <td>1</td>\n",
       "    </tr>\n",
       "    <tr>\n",
       "      <th>15</th>\n",
       "      <td>12.80</td>\n",
       "      <td>4.873</td>\n",
       "      <td>2</td>\n",
       "    </tr>\n",
       "    <tr>\n",
       "      <th>16</th>\n",
       "      <td>14.01</td>\n",
       "      <td>2.217</td>\n",
       "      <td>0</td>\n",
       "    </tr>\n",
       "    <tr>\n",
       "      <th>17</th>\n",
       "      <td>11.87</td>\n",
       "      <td>3.597</td>\n",
       "      <td>2</td>\n",
       "    </tr>\n",
       "    <tr>\n",
       "      <th>18</th>\n",
       "      <td>19.15</td>\n",
       "      <td>3.084</td>\n",
       "      <td>1</td>\n",
       "    </tr>\n",
       "    <tr>\n",
       "      <th>19</th>\n",
       "      <td>14.99</td>\n",
       "      <td>2.958</td>\n",
       "      <td>0</td>\n",
       "    </tr>\n",
       "    <tr>\n",
       "      <th>20</th>\n",
       "      <td>11.27</td>\n",
       "      <td>4.309</td>\n",
       "      <td>2</td>\n",
       "    </tr>\n",
       "  </tbody>\n",
       "</table>\n",
       "</div>"
      ],
      "text/plain": [
       "     area  asymm  Prediction\n",
       "0   18.72  5.324           1\n",
       "1   13.37  4.670           2\n",
       "2   10.83  5.182           2\n",
       "3   12.76  2.828           0\n",
       "4   14.28  6.685           2\n",
       "5   10.82  4.853           2\n",
       "6   15.38  1.999           0\n",
       "7   13.07  5.304           2\n",
       "8   21.18  5.780           1\n",
       "9   17.63  4.076           1\n",
       "10  18.98  3.691           1\n",
       "11  16.20  2.823           0\n",
       "12  14.11  2.688           0\n",
       "13  16.44  1.969           0\n",
       "14  19.18  3.357           1\n",
       "15  12.80  4.873           2\n",
       "16  14.01  2.217           0\n",
       "17  11.87  3.597           2\n",
       "18  19.15  3.084           1\n",
       "19  14.99  2.958           0\n",
       "20  11.27  4.309           2"
      ]
     },
     "execution_count": 12,
     "metadata": {},
     "output_type": "execute_result"
    }
   ],
   "source": [
    "from numpy.linalg import inv\n",
    "import pandas as pd\n",
    "\n",
    "def mean(x, classNum):\n",
    "    \n",
    "    count_0,count_1 = 0,0\n",
    "    \n",
    "    for data in x[trainy == classNum, 0:2]:\n",
    "        count_0 = count_0 + data[0]\n",
    "        count_1 = count_1 + data[1] \n",
    "    mu = [count_0 / x[trainy == classNum, 0].size, count_1 / x[trainy == classNum, 1].size]\n",
    "    \n",
    "    return mu\n",
    "\n",
    "def prob(data, mu, sigma):\n",
    "    \n",
    "    #same covariance lets us omit it from likelihood calculations\n",
    "    #log p = -1/2(x - mu)^T * sigma * (x - mu)\n",
    "    \n",
    "    sig_inv = inv(sigma)\n",
    "    vec_1 = np.array([[data[0] - mu[0], data[1] - mu[1]]]) #vec_1 is transpose\n",
    "    vec_2 = (np.array([[data[0] - mu[0], data[1] - mu[1]]])).transpose()\n",
    "    return (-.5 * (np.dot(np.dot(vec_1,sig_inv), vec_2)))\n",
    "    \n",
    "            \n",
    "data = predict\n",
    "\n",
    "df = pd.DataFrame(data)\n",
    "df.columns = ['area','asymm']\n",
    "sigma = estimate_cov(trainx)\n",
    "\n",
    "prob0 = []\n",
    "prob1 = []\n",
    "prob2 = []\n",
    "arr = []\n",
    "    \n",
    "for i in range(len(data)):\n",
    "    prob0 = prob(data[i],mu_0,sigma)[0][0]    \n",
    "    prob1 = prob(data[i],mu_1,sigma)[0][0]  \n",
    "    prob2 = prob(data[i],mu_2,sigma)[0][0] \n",
    "   # df['prob0'] = prob0\n",
    "   # df['prob1'] = prob1\n",
    "   # df['prob2'] = prob2\n",
    "\n",
    "    print(prob0,prob1,prob2)\n",
    "    \n",
    "    if (prob0 > prob1) and (prob0 > prob2): #class0\n",
    "        #df['Pred_Class'] = 0\n",
    "        arr.append(0)\n",
    "    \n",
    "    elif (prob1 > prob0) and (prob1 > prob2): #class1\n",
    "        #df['Pred_Class'] = 1\n",
    "        arr.append(1)\n",
    "        \n",
    "    elif (prob2 > prob0) and (prob2 > prob1): #class2\n",
    "        #df['Pred_Class'] = 2\n",
    "        arr.append(2)\n",
    "df['Prediction'] = arr\n",
    "df"
   ]
  },
  {
   "cell_type": "code",
   "execution_count": 144,
   "metadata": {},
   "outputs": [
    {
     "name": "stdout",
     "output_type": "stream",
     "text": [
      "[[18.72   5.324]\n",
      " [13.37   4.67 ]\n",
      " [10.83   5.182]\n",
      " [12.76   2.828]\n",
      " [14.28   6.685]\n",
      " [10.82   4.853]\n",
      " [15.38   1.999]\n",
      " [13.07   5.304]\n",
      " [21.18   5.78 ]\n",
      " [17.63   4.076]\n",
      " [18.98   3.691]\n",
      " [16.2    2.823]\n",
      " [14.11   2.688]\n",
      " [16.44   1.969]\n",
      " [19.18   3.357]\n",
      " [12.8    4.873]\n",
      " [14.01   2.217]\n",
      " [11.87   3.597]\n",
      " [19.15   3.084]\n",
      " [14.99   2.958]\n",
      " [11.27   4.309]]\n",
      "[1 2 2 0 2 2 0 2 1 1 1 0 0 0 1 2 0 2 1 0 2]\n"
     ]
    },
    {
     "data": {
      "text/plain": [
       "[<matplotlib.lines.Line2D at 0x7fc812a084f0>]"
      ]
     },
     "execution_count": 144,
     "metadata": {},
     "output_type": "execute_result"
    },
    {
     "data": {
      "image/png": "[encoded data removed]",
      "text/plain": [
       "<Figure size 432x288 with 1 Axes>"
      ]
     },
     "metadata": {
      "needs_background": "light"
     },
     "output_type": "display_data"
    }
   ],
   "source": [
    "#plotting our predicted datset\n",
    "xdata = np.array(data)\n",
    "yarr = np.array(arr)\n",
    "# plotting the Type A as a green dot\n",
    "plt.plot(xdata[yarr==0,0], xdata[yarr==0,1], marker='o', ls='None', c='g')\n",
    "# plotting Type B as a red dot\n",
    "plt.plot(xdata[yarr==1,0], xdata[yarr==1,1], marker='o', ls='None', c='r')\n",
    "# plotting Type C as a blue dot\n",
    "plt.plot(xdata[yarr==2,0], xdata[yarr==2,1], marker='o', ls='None', c='b')"
   ]
  },
  {
   "cell_type": "code",
   "execution_count": null,
   "metadata": {},
   "outputs": [],
   "source": []
  }
 ],
 "metadata": {
  "kernelspec": {
   "display_name": "Python 3",
   "language": "python",
   "name": "python3"
  },
  "language_info": {
   "codemirror_mode": {
    "name": "ipython",
    "version": 3
   },
   "file_extension": ".py",
   "mimetype": "text/x-python",
   "name": "python",
   "nbconvert_exporter": "python",
   "pygments_lexer": "ipython3",
   "version": "3.8.5"
  },
  "toc": {
   "colors": {
    "hover_highlight": "#DAA520",
    "navigate_num": "#000000",
    "navigate_text": "#333333",
    "running_highlight": "#FF0000",
    "selected_highlight": "#FFD700",
    "sidebar_border": "#EEEEEE",
    "wrapper_background": "#FFFFFF"
   },
   "moveMenuLeft": true,
   "nav_menu": {
    "height": "12px",
    "width": "252px"
   },
   "navigate_menu": true,
   "number_sections": false,
   "sideBar": true,
   "threshold": 4,
   "toc_cell": false,
   "toc_section_display": "block",
   "toc_window_display": false,
   "widenNotebook": false
  }
 },
 "nbformat": 4,
 "nbformat_minor": 1
}
